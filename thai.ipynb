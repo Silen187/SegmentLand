{
 "cells": [
  {
   "cell_type": "code",
   "execution_count": 4,
   "metadata": {},
   "outputs": [
    {
     "data": {
      "text/plain": [
       "'-1.36131    9.11606    -42.2058    73.0109    -72.6006    44.6103    -13.7196    1.73754'"
      ]
     },
     "execution_count": 4,
     "metadata": {},
     "output_type": "execute_result"
    }
   ],
   "source": [
    "# Chuỗi đầu vào\n",
    "chuoi = \"1.73754    -13.7196     44.6103    -72.6006     73.0109    -42.2058     9.11606    -1.36131\"\n",
    "\n",
    "# Tách các số trong chuỗi và chuyển thành danh sách các số float\n",
    "danh_sach_so = [float(so) for so in chuoi.split()]\n",
    "\n",
    "# Đảo ngược danh sách\n",
    "danh_sach_so_nguoc = danh_sach_so[::-1]\n",
    "danh_sach_so_nguoc\n",
    "chuoi_nguoc = '    '.join(f\"{so}\" for so in danh_sach_so_nguoc)\n",
    "chuoi_nguoc"
   ]
  },
  {
   "cell_type": "code",
   "execution_count": 19,
   "metadata": {},
   "outputs": [],
   "source": [
    "# Danh sách ban đầu có các giá trị trùng lặp\n",
    "numbers = [6, 6, 7, 9, 81, 2, 2, 3, 4, 4, 5, 5, 5]\n",
    "\n",
    "# Loại bỏ các giá trị trùng lặp bằng cách chuyển thành set rồi lại về list\n",
    "u = sorted(set(numbers))"
   ]
  },
  {
   "cell_type": "code",
   "execution_count": 9,
   "metadata": {},
   "outputs": [],
   "source": [
    "def adjust_duplicates(lst):\n",
    "    max_value = lst[-1]  # Giá trị lớn nhất ban đầu trong danh sách\n",
    "    i = 0\n",
    "    while i < len(lst) - 1:\n",
    "        # Nếu phần tử hiện tại trùng với phần tử tiếp theo\n",
    "        if lst[i] == lst[i + 1]:\n",
    "            lst[i] += 1  # Cộng thêm 1 cho phần tử hiện tại\n",
    "            \n",
    "            # Kiểm tra nếu giá trị mới lớn hơn max_value, loại bỏ phần tử\n",
    "            if lst[i] > max_value:\n",
    "                lst.pop(i)\n",
    "                i -= 1  # Điều chỉnh chỉ số để không bỏ qua phần tử nào\n",
    "            else:\n",
    "                lst.sort()\n",
    "                i -= 1\n",
    "        i += 1\n",
    "    return lst"
   ]
  },
  {
   "cell_type": "code",
   "execution_count": 10,
   "metadata": {},
   "outputs": [
    {
     "data": {
      "text/plain": [
       "[0, 11, 12, 15, 17, 18, 19, 22, 23, 32]"
      ]
     },
     "execution_count": 10,
     "metadata": {},
     "output_type": "execute_result"
    }
   ],
   "source": [
    "adjust_duplicates([0, 11, 12, 15, 17, 17, 17, 22, 23, 32, 32])"
   ]
  },
  {
   "cell_type": "code",
   "execution_count": 2,
   "metadata": {},
   "outputs": [
    {
     "data": {
      "text/plain": [
       "array([0, 1, 2, 3, 4, 5, 6, 7])"
      ]
     },
     "execution_count": 2,
     "metadata": {},
     "output_type": "execute_result"
    }
   ],
   "source": [
    "import numpy as np\n",
    "np.arange(8)"
   ]
  }
 ],
 "metadata": {
  "kernelspec": {
   "display_name": "base",
   "language": "python",
   "name": "python3"
  },
  "language_info": {
   "codemirror_mode": {
    "name": "ipython",
    "version": 3
   },
   "file_extension": ".py",
   "mimetype": "text/x-python",
   "name": "python",
   "nbconvert_exporter": "python",
   "pygments_lexer": "ipython3",
   "version": "3.12.3"
  }
 },
 "nbformat": 4,
 "nbformat_minor": 2
}
