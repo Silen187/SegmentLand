{
 "cells": [
  {
   "cell_type": "code",
   "execution_count": 8,
   "metadata": {},
   "outputs": [
    {
     "name": "stdout",
     "output_type": "stream",
     "text": [
      "<class 'pandas.core.frame.DataFrame'>\n",
      "RangeIndex: 45173 entries, 0 to 45172\n",
      "Data columns (total 4 columns):\n",
      " #   Column        Non-Null Count  Dtype  \n",
      "---  ------        --------------  -----  \n",
      " 0   system:index  45173 non-null  object \n",
      " 1   NBR           45173 non-null  float64\n",
      " 2   year          45173 non-null  int64  \n",
      " 3   .geo          45173 non-null  object \n",
      "dtypes: float64(1), int64(1), object(2)\n",
      "memory usage: 1.4+ MB\n"
     ]
    }
   ],
   "source": [
    "import pandas as pd\n",
    "\n",
    "# Đường dẫn đến tệp dữ liệu CSV\n",
    "file_path = 'NBR_Pixel_Values_Export.csv'\n",
    "\n",
    "# Đọc tệp CSV vào DataFrame\n",
    "data = pd.read_csv(file_path)\n",
    "data = data.dropna()\n",
    "\n",
    "data.info()"
   ]
  },
  {
   "cell_type": "code",
   "execution_count": 44,
   "metadata": {},
   "outputs": [],
   "source": [
    "data[['year_number', 'pixel_id']] = data['system:index'].str.split('_', expand=True)\n",
    "data['year_number'] = data['year'].astype(int)\n",
    "data['pixel_id'] = data['pixel_id'].astype(int)\n",
    "\n",
    "# Chuyển đổi DataFrame để mỗi dòng là một pixel và mỗi cột là NBR của từng năm\n",
    "pivot_df = data.pivot(index='pixel_id', columns='year_number', values='NBR')\n",
    "\n",
    "# Đổi tên các cột để phản ánh năm theo thứ tự (Year_1, Year_2, ..., Year_38)\n",
    "pivot_df.columns = [f'Year_{col}' for col in pivot_df.columns]\n",
    "\n",
    "# Hiển thị kết quả\n",
    "pivot_df.reset_index(inplace=True)\n",
    "pivot_df.head()\n",
    "pivot_df.to_csv('pivot_data.csv', index=False)"
   ]
  },
  {
   "cell_type": "code",
   "execution_count": 45,
   "metadata": {},
   "outputs": [
    {
     "name": "stdout",
     "output_type": "stream",
     "text": [
      "<xarray.Dataset>\n",
      "Dimensions:   (pixel_id: 1365, year: 33, time: 33)\n",
      "Coordinates:\n",
      "  * pixel_id  (pixel_id) int32 0 1 2 3 4 5 6 ... 1359 1360 1361 1362 1363 1364\n",
      "  * time      (time) int32 1985 1986 1987 1988 1989 ... 2013 2014 2015 2016 2017\n",
      "Dimensions without coordinates: year\n",
      "Data variables:\n",
      "    NBR       (pixel_id, year) float64 -843.8 -806.3 -818.1 ... -788.2 -807.5\n"
     ]
    }
   ],
   "source": [
    "import xarray as xr\n",
    "data = pivot_df.dropna()\n",
    "years = [int(col.split('_')[1]) for col in data.columns if col.startswith(\"Year_\")]\n",
    "pixel_ids = data['pixel_id']\n",
    "\n",
    "# Chuyển đổi DataFrame sang xarray.Dataset\n",
    "ds = xr.Dataset(\n",
    "    {\n",
    "        \"NBR\": ([\"pixel_id\", \"year\"], data.drop(columns=\"pixel_id\").values)\n",
    "    },\n",
    "    coords={\n",
    "        \"pixel_id\": pixel_ids,\n",
    "        \"time\": years\n",
    "    }\n",
    ")\n",
    "\n",
    "# Hiển thị Dataset\n",
    "print(ds)"
   ]
  },
  {
   "cell_type": "code",
   "execution_count": 11,
   "metadata": {},
   "outputs": [
    {
     "name": "stderr",
     "output_type": "stream",
     "text": [
      "c:\\ProgramData\\anaconda3\\Lib\\site-packages\\distributed\\node.py:187: UserWarning: Port 8787 is already in use.\n",
      "Perhaps you already have a cluster running?\n",
      "Hosting the HTTP server on port 56220 instead\n",
      "  warnings.warn(\n"
     ]
    },
    {
     "name": "stdout",
     "output_type": "stream",
     "text": [
      "<Client: 'tcp://127.0.0.1:56221' processes=4 threads=8, memory=15.80 GiB>\n"
     ]
    }
   ],
   "source": [
    "from dask.distributed import Client\n",
    "# Khởi tạo Client để chạy trên local (tận dụng tất cả các lõi CPU sẵn có)\n",
    "client = Client()\n",
    "# Kiểm tra và hiển thị thông tin về cluster\n",
    "print(client)"
   ]
  },
  {
   "cell_type": "code",
   "execution_count": 5,
   "metadata": {},
   "outputs": [
    {
     "data": {
      "text/plain": [
       "34"
      ]
     },
     "execution_count": 5,
     "metadata": {},
     "output_type": "execute_result"
    }
   ],
   "source": [
    "import dask.dataframe as dd\n",
    "df = dd.read_csv('pivot_data.csv')\n",
    "df.shape[1]"
   ]
  },
  {
   "cell_type": "code",
   "execution_count": 1,
   "metadata": {},
   "outputs": [],
   "source": [
    "ls = []\n",
    "ls = 0"
   ]
  },
  {
   "cell_type": "code",
   "execution_count": 2,
   "metadata": {},
   "outputs": [
    {
     "data": {
      "text/plain": [
       "0"
      ]
     },
     "execution_count": 2,
     "metadata": {},
     "output_type": "execute_result"
    }
   ],
   "source": [
    "ls"
   ]
  }
 ],
 "metadata": {
  "kernelspec": {
   "display_name": "base",
   "language": "python",
   "name": "python3"
  },
  "language_info": {
   "codemirror_mode": {
    "name": "ipython",
    "version": 3
   },
   "file_extension": ".py",
   "mimetype": "text/x-python",
   "name": "python",
   "nbconvert_exporter": "python",
   "pygments_lexer": "ipython3",
   "version": "3.12.3"
  }
 },
 "nbformat": 4,
 "nbformat_minor": 2
}
