{
 "cells": [
  {
   "cell_type": "code",
   "execution_count": 3,
   "metadata": {},
   "outputs": [
    {
     "name": "stdout",
     "output_type": "stream",
     "text": [
      "<class 'pandas.core.frame.DataFrame'>\n",
      "RangeIndex: 1200 entries, 0 to 1199\n",
      "Data columns (total 4 columns):\n",
      " #   Column        Non-Null Count  Dtype  \n",
      "---  ------        --------------  -----  \n",
      " 0   system:index  1200 non-null   object \n",
      " 1   NDVI          1200 non-null   float64\n",
      " 2   year          1200 non-null   float64\n",
      " 3   .geo          1200 non-null   object \n",
      "dtypes: float64(2), object(2)\n",
      "memory usage: 37.6+ KB\n"
     ]
    }
   ],
   "source": [
    "import pandas as pd\n",
    "\n",
    "# Đường dẫn đến tệp dữ liệu CSV\n",
    "file_path = 'NDVI_Pixels_Time_Series_All_Years_quehuong.csv'\n",
    "\n",
    "# Đọc tệp CSV vào DataFrame\n",
    "data = pd.read_csv(file_path)\n",
    "data = data.dropna()\n",
    "\n",
    "data.info()"
   ]
  },
  {
   "cell_type": "code",
   "execution_count": 4,
   "metadata": {},
   "outputs": [],
   "source": [
    "data[['year_number', 'pixel_id']] = data['system:index'].str.split('_', expand=True)\n",
    "data['year_number'] = data['year'].astype(int)\n",
    "data['pixel_id'] = data['pixel_id'].astype(int)\n",
    "\n",
    "# Chuyển đổi DataFrame để mỗi dòng là một pixel và mỗi cột là NBR của từng năm\n",
    "pivot_df = data.pivot(index='pixel_id', columns='year_number', values='NDVI')\n",
    "\n",
    "# Đổi tên các cột để phản ánh năm theo thứ tự (Year_1, Year_2, ..., Year_38)\n",
    "pivot_df.columns = [f'Year_{col}' for col in pivot_df.columns]\n",
    "\n",
    "# Hiển thị kết quả\n",
    "pivot_df.reset_index(inplace=True)\n",
    "pivot_df.head()\n",
    "pivot_df.to_csv('pivot_data.csv', index=False)"
   ]
  },
  {
   "cell_type": "code",
   "execution_count": 5,
   "metadata": {},
   "outputs": [
    {
     "name": "stdout",
     "output_type": "stream",
     "text": [
      "<xarray.Dataset>\n",
      "Dimensions:   (pixel_id: 48, year: 25, time: 25)\n",
      "Coordinates:\n",
      "  * pixel_id  (pixel_id) int32 0 1 2 3 4 5 6 7 8 ... 39 40 41 42 43 44 45 46 47\n",
      "  * time      (time) int32 1986 1987 1988 1989 1990 ... 2006 2007 2008 2009 2010\n",
      "Dimensions without coordinates: year\n",
      "Data variables:\n",
      "    NDVI      (pixel_id, year) float64 0.2686 0.1902 0.123 ... 0.1047 0.2587\n"
     ]
    }
   ],
   "source": [
    "import xarray as xr\n",
    "data = pivot_df.dropna()\n",
    "years = [int(col.split('_')[1]) for col in data.columns if col.startswith(\"Year_\")]\n",
    "pixel_ids = data['pixel_id']\n",
    "\n",
    "# Chuyển đổi DataFrame sang xarray.Dataset\n",
    "ds = xr.Dataset(\n",
    "    {\n",
    "        \"NDVI\": ([\"pixel_id\", \"year\"], data.drop(columns=\"pixel_id\").values)\n",
    "    },\n",
    "    coords={\n",
    "        \"pixel_id\": pixel_ids,\n",
    "        \"time\": years\n",
    "    }\n",
    ")\n",
    "\n",
    "# Hiển thị Dataset\n",
    "print(ds)"
   ]
  },
  {
   "cell_type": "code",
   "execution_count": 6,
   "metadata": {},
   "outputs": [],
   "source": [
    "# Đọc tệp CSV vào DataFrame\n",
    "data = pd.read_csv(\"pivot_data.csv\")  \n",
    "years = [int(col.split('_')[1]) for col in data.columns if col.startswith(\"Year_\")]\n",
    "pixel_ids = data['pixel_id']\n",
    "\n",
    "ds = xr.Dataset(\n",
    "    {\n",
    "        \"NDVI\": ([\"pixel_id\", \"year\"], data.drop(columns=\"pixel_id\").values)\n",
    "    },\n",
    "    coords={\n",
    "        \"pixel_id\": pixel_ids,\n",
    "        \"time\": years\n",
    "    }\n",
    ")"
   ]
  },
  {
   "cell_type": "code",
   "execution_count": 1,
   "metadata": {},
   "outputs": [],
   "source": [
    "from dask.distributed import Client"
   ]
  },
  {
   "cell_type": "code",
   "execution_count": 2,
   "metadata": {},
   "outputs": [
    {
     "name": "stdout",
     "output_type": "stream",
     "text": [
      "<Client: 'tcp://10.244.0.14:8786' processes=3 threads=24, memory=22.97 GiB>\n"
     ]
    }
   ],
   "source": [
    "client = Client(\"tcp://127.0.0.1:5763\")\n",
    "print(client)  # Hiển thị thông tin cluster"
   ]
  },
  {
   "cell_type": "code",
   "execution_count": 12,
   "metadata": {},
   "outputs": [
    {
     "name": "stdout",
     "output_type": "stream",
     "text": [
      "?rw-r--r-- root/root      34727 2024-11-27 14:20:05 LT05_L2SP_127045_19860701_20200917_02_T1_ANG.txt \n",
      "?rw-r--r-- root/root      13057 2024-11-27 14:20:06 LT05_L2SP_127045_19860701_20200917_02_T1_MTL.json \n",
      "?rw-r--r-- root/root      13988 2024-11-27 14:20:06 LT05_L2SP_127045_19860701_20200917_02_T1_MTL.txt \n",
      "?rw-r--r-- root/root      20476 2024-11-27 14:20:06 LT05_L2SP_127045_19860701_20200917_02_T1_MTL.xml \n",
      "?rw-r--r-- root/root    1960377 2024-11-27 14:20:06 LT05_L2SP_127045_19860701_20200917_02_T1_QA_PIXEL.TIF \n",
      "?rw-r--r-- root/root     454131 2024-11-27 14:20:06 LT05_L2SP_127045_19860701_20200917_02_T1_QA_RADSAT.TIF \n",
      "?rw-r--r-- root/root    7722913 2024-11-27 14:20:06 LT05_L2SP_127045_19860701_20200917_02_T1_SR_ATMOS_OPACITY.TIF \n",
      "?rw-r--r-- root/root   66736879 2024-11-27 14:20:08 LT05_L2SP_127045_19860701_20200917_02_T1_SR_B1.TIF \n",
      "?rw-r--r-- root/root   62353134 2024-11-27 14:20:10 LT05_L2SP_127045_19860701_20200917_02_T1_SR_B2.TIF \n",
      "?rw-r--r-- root/root   64664252 2024-11-27 14:20:11 LT05_L2SP_127045_19860701_20200917_02_T1_SR_B3.TIF \n",
      "?rw-r--r-- root/root   84918597 2024-11-27 14:20:13 LT05_L2SP_127045_19860701_20200917_02_T1_SR_B4.TIF \n",
      "?rw-r--r-- root/root   78600448 2024-11-27 14:20:15 LT05_L2SP_127045_19860701_20200917_02_T1_SR_B5.TIF \n",
      "?rw-r--r-- root/root   63320692 2024-11-27 14:20:17 LT05_L2SP_127045_19860701_20200917_02_T1_SR_B7.TIF \n",
      "?rw-r--r-- root/root    3750563 2024-11-27 14:20:19 LT05_L2SP_127045_19860701_20200917_02_T1_SR_CLOUD_QA.TIF \n",
      "?rw-r--r-- root/root      45318 2024-11-27 14:20:19 LT05_L2SP_127045_19860701_20200917_02_T1_SR_stac.json \n",
      "?rw-r--r-- root/root   49358352 2024-11-27 14:20:19 LT05_L2SP_127045_19860701_20200917_02_T1_ST_ATRAN.TIF \n",
      "?rw-r--r-- root/root   71761480 2024-11-27 14:20:21 LT05_L2SP_127045_19860701_20200917_02_T1_ST_B6.TIF \n",
      "?rw-r--r-- root/root   19038506 2024-11-27 14:20:23 LT05_L2SP_127045_19860701_20200917_02_T1_ST_CDIST.TIF \n",
      "?rw-r--r-- root/root   37989441 2024-11-27 14:20:24 LT05_L2SP_127045_19860701_20200917_02_T1_ST_DRAD.TIF \n",
      "?rw-r--r-- root/root   47117388 2024-11-27 14:20:25 LT05_L2SP_127045_19860701_20200917_02_T1_ST_EMIS.TIF \n",
      "?rw-r--r-- root/root   15879497 2024-11-27 14:20:26 LT05_L2SP_127045_19860701_20200917_02_T1_ST_EMSD.TIF \n",
      "?rw-r--r-- root/root   36613266 2024-11-27 14:20:27 LT05_L2SP_127045_19860701_20200917_02_T1_ST_QA.TIF \n",
      "?rw-r--r-- root/root   20965234 2024-11-27 14:20:28 LT05_L2SP_127045_19860701_20200917_02_T1_ST_TRAD.TIF \n",
      "?rw-r--r-- root/root   49331195 2024-11-27 14:20:29 LT05_L2SP_127045_19860701_20200917_02_T1_ST_URAD.TIF \n",
      "?rw-r--r-- root/root      40278 2024-11-27 14:20:30 LT05_L2SP_127045_19860701_20200917_02_T1_ST_stac.json \n",
      "?rw-r--r-- root/root      94380 2024-11-27 14:20:30 LT05_L2SP_127045_19860701_20200917_02_T1_thumb_large.jpeg \n",
      "?rw-r--r-- root/root      11873 2024-11-27 14:20:30 LT05_L2SP_127045_19860701_20200917_02_T1_thumb_small.jpeg \n"
     ]
    }
   ],
   "source": [
    "import tarfile\n",
    "import rasterio\n",
    "\n",
    "# Mở tệp tar\n",
    "tar_file = 'data/LT05_L2SP_127045_19860701_20200917_02_T1.tar'\n",
    "with tarfile.open(tar_file, 'r') as tar:\n",
    "    tar.list()  # Liệt kê nội dung trong tar file\n",
    "    tif_files = [file for file in tar.getnames() if file.endswith('.TIF')]\n",
    "    for tif_file in tif_files:\n",
    "        tar.extract(tif_file, path=f'data/LT05_L2SP_127045_19860701_20200917_02_T1')  # Giải nén từng tệp .tif\n"
   ]
  },
  {
   "cell_type": "code",
   "execution_count": 14,
   "metadata": {},
   "outputs": [
    {
     "name": "stdout",
     "output_type": "stream",
     "text": [
      "(1, 1727, 1713)\n",
      "(1, 1727, 1713)\n",
      "(1, 1727, 1713)\n",
      "(1, 1727, 1713)\n",
      "(1, 1727, 1713)\n",
      "(1, 1727, 1713)\n",
      "(1, 1727, 1713)\n",
      "(1, 1727, 1713)\n",
      "(1, 1727, 1713)\n",
      "(1, 1727, 1713)\n",
      "(1, 1727, 1713)\n",
      "(1, 1727, 1713)\n",
      "(1, 1727, 1713)\n",
      "(1, 1727, 1713)\n",
      "(1, 1727, 1713)\n",
      "(1, 1727, 1713)\n",
      "(1, 1727, 1713)\n",
      "(1, 1727, 1713)\n",
      "(1, 1727, 1713)\n",
      "(1, 1727, 1713)\n"
     ]
    },
    {
     "ename": "ValueError",
     "evalue": "Source shape (1, 1, 1727, 1713) is inconsistent with given indexes 1",
     "output_type": "error",
     "traceback": [
      "\u001b[1;31m---------------------------------------------------------------------------\u001b[0m",
      "\u001b[1;31mValueError\u001b[0m                                Traceback (most recent call last)",
      "Cell \u001b[1;32mIn[14], line 80\u001b[0m\n\u001b[0;32m     78\u001b[0m         \u001b[38;5;28;01mfor\u001b[39;00m i \u001b[38;5;129;01min\u001b[39;00m \u001b[38;5;28mrange\u001b[39m(\u001b[38;5;28mlen\u001b[39m(all_bands)):\n\u001b[0;32m     79\u001b[0m             \u001b[38;5;28mprint\u001b[39m(all_bands[i]\u001b[38;5;241m.\u001b[39mshape)\n\u001b[1;32m---> 80\u001b[0m             dest\u001b[38;5;241m.\u001b[39mwrite(all_bands[i], i \u001b[38;5;241m+\u001b[39m \u001b[38;5;241m1\u001b[39m)  \u001b[38;5;66;03m# Ghi tất cả các band vào tệp\u001b[39;00m\n\u001b[0;32m     82\u001b[0m     \u001b[38;5;28mprint\u001b[39m(\u001b[38;5;124mf\u001b[39m\u001b[38;5;124m\"\u001b[39m\u001b[38;5;124mĐã tạo COG với nhiều band: \u001b[39m\u001b[38;5;132;01m{\u001b[39;00moutput_file\u001b[38;5;132;01m}\u001b[39;00m\u001b[38;5;124m\"\u001b[39m)\n\u001b[0;32m     83\u001b[0m \u001b[38;5;28;01melse\u001b[39;00m:\n",
      "File \u001b[1;32mrasterio\\\\_io.pyx:1738\u001b[0m, in \u001b[0;36mrasterio._io.DatasetWriterBase.write\u001b[1;34m()\u001b[0m\n",
      "\u001b[1;31mValueError\u001b[0m: Source shape (1, 1, 1727, 1713) is inconsistent with given indexes 1"
     ]
    }
   ],
   "source": [
    "import os\n",
    "import tarfile\n",
    "import geopandas as gpd\n",
    "from shapely.geometry import Polygon\n",
    "import rasterio\n",
    "from rasterio.mask import mask\n",
    "\n",
    "# Mở tệp tar và giải nén các tệp .TIF\n",
    "tar_file = 'data/LT05_L2SP_127045_19860701_20200917_02_T1.tar'\n",
    "with tarfile.open(tar_file, 'r') as tar:\n",
    "    tif_files = [file for file in tar.getnames() if file.endswith('.TIF')]\n",
    "    for tif_file in tif_files:\n",
    "        tar.extract(tif_file, path=f'data/LT05_L2SP_127045_19860701_20200917_02_T1')  # Giải nén từng tệp .tif\n",
    "\n",
    "# Tạo thư mục đầu ra cho COG nếu chưa tồn tại\n",
    "output_dir = \"output_cog\"\n",
    "os.makedirs(output_dir, exist_ok=True)\n",
    "\n",
    "# Tạo Polygon từ tọa độ của bạn (tọa độ là danh sách các điểm [longitude, latitude])\n",
    "coords = [\n",
    "    (105.312544, 21.519839),\n",
    "    (105.548750, 21.597749),\n",
    "    (105.807615, 21.342149),\n",
    "    (105.732084, 21.189216),\n",
    "    (105.474040, 21.129934)\n",
    "]\n",
    "polygon = Polygon(coords)\n",
    "\n",
    "# Chuyển Polygon thành GeoDataFrame (EPSG:4326 cho các tọa độ là lat, lon)\n",
    "gdf = gpd.GeoDataFrame({'geometry': [polygon]}, crs=\"EPSG:4326\")\n",
    "\n",
    "# Tạo danh sách để lưu trữ các band\n",
    "all_bands = []\n",
    "\n",
    "# Duyệt qua các tệp .tif để đọc tất cả các band\n",
    "for tif_file in tif_files:\n",
    "    tif_path = f'data/LT05_L2SP_127045_19860701_20200917_02_T1/{tif_file}'\n",
    "    \n",
    "    with rasterio.open(tif_path) as src:\n",
    "        # Kiểm tra CRS của ảnh và chuyển đổi CRS của polygon nếu cần\n",
    "        if src.crs != \"EPSG:4326\":\n",
    "            gdf = gdf.to_crs(src.crs)\n",
    "\n",
    "        # Cắt ảnh theo polygon đã chuyển đổi CRS\n",
    "        out_image, out_transform = mask(src, gdf.geometry, crop=True)\n",
    "        \n",
    "        # Lưu trữ band vào danh sách (mỗi band là một mảng NumPy)\n",
    "        all_bands.append(out_image)\n",
    "\n",
    "# Kiểm tra nếu tất cả các band đã được đọc\n",
    "# Nếu có ít nhất 1 band, tiếp tục gộp và lưu\n",
    "if all_bands:\n",
    "    # Lấy metadata từ band đầu tiên để cập nhật\n",
    "    with rasterio.open(f'data/LT05_L2SP_127045_19860701_20200917_02_T1/{tif_files[0]}') as src:\n",
    "        out_meta = src.meta\n",
    "    # Cập nhật metadata để phù hợp với tất cả các band\n",
    "    out_meta.update({\n",
    "        \"driver\": \"GTiff\", \n",
    "        \"dtype\": \"uint16\",  # Kiểu dữ liệu của ảnh\n",
    "        \"nodata\": None,     # Nếu không có NoData, bạn có thể để None\n",
    "        \"count\": len(all_bands),  # Số lượng band (nếu bạn có nhiều band)\n",
    "        \"crs\": src.crs,     # CRS của ảnh (có thể là EPSG:32648 hoặc một CRS khác)\n",
    "        \"transform\": out_transform,  # Biến đổi affine cho ảnh cắt\n",
    "        \"tiled\": True,      # Tạo ảnh theo kiểu tiling\n",
    "        \"blockxsize\": 512,  # Kích thước block theo chiều ngang\n",
    "        \"blockysize\": 512,  # Kích thước block theo chiều dọc\n",
    "        \"compress\": \"lzw\",  # Nén ảnh với LZW\n",
    "        \"predictor\": 2,     # Dùng predictor cho ảnh có giá trị giống nhau\n",
    "        \"overviews\": \"YES\", # Tạo overviews (ảnh thu nhỏ) cho ảnh\n",
    "    })\n",
    "\n",
    "    # Tạo đường dẫn mới để lưu ảnh COG\n",
    "    output_file = os.path.join(output_dir, f'cog_multiband.tif')\n",
    "\n",
    "    # Lưu ảnh với tất cả các band vào GeoTIFF (COG)\n",
    "    with rasterio.open(output_file, 'w', **out_meta) as dest:\n",
    "        for i in range(len(all_bands)):\n",
    "            print(all_bands[i].shape)\n",
    "            dest.write(all_bands[i], i + 1)  # Ghi tất cả các band vào tệp\n",
    "\n",
    "    print(f\"Đã tạo COG với nhiều band: {output_file}\")\n",
    "else:\n",
    "    print(\"Không có band nào được đọc từ các tệp .TIF.\")\n"
   ]
  },
  {
   "cell_type": "code",
   "execution_count": 13,
   "metadata": {},
   "outputs": [
    {
     "data": {
      "text/plain": [
       "19"
      ]
     },
     "execution_count": 13,
     "metadata": {},
     "output_type": "execute_result"
    }
   ],
   "source": [
    "len(all_bands)"
   ]
  }
 ],
 "metadata": {
  "kernelspec": {
   "display_name": "base",
   "language": "python",
   "name": "python3"
  },
  "language_info": {
   "codemirror_mode": {
    "name": "ipython",
    "version": 3
   },
   "file_extension": ".py",
   "mimetype": "text/x-python",
   "name": "python",
   "nbconvert_exporter": "python",
   "pygments_lexer": "ipython3",
   "version": "3.12.3"
  }
 },
 "nbformat": 4,
 "nbformat_minor": 2
}
