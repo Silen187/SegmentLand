{
 "cells": [
  {
   "cell_type": "code",
   "execution_count": 13,
   "metadata": {},
   "outputs": [
    {
     "data": {
      "text/html": [
       "\n",
       "            <style>\n",
       "                .geemap-dark {\n",
       "                    --jp-widgets-color: white;\n",
       "                    --jp-widgets-label-color: white;\n",
       "                    --jp-ui-font-color1: white;\n",
       "                    --jp-layout-color2: #454545;\n",
       "                    background-color: #383838;\n",
       "                }\n",
       "\n",
       "                .geemap-dark .jupyter-button {\n",
       "                    --jp-layout-color3: #383838;\n",
       "                }\n",
       "\n",
       "                .geemap-colab {\n",
       "                    background-color: var(--colab-primary-surface-color, white);\n",
       "                }\n",
       "\n",
       "                .geemap-colab .jupyter-button {\n",
       "                    --jp-layout-color3: var(--colab-primary-surface-color, white);\n",
       "                }\n",
       "            </style>\n",
       "            "
      ],
      "text/plain": [
       "<IPython.core.display.HTML object>"
      ]
     },
     "metadata": {},
     "output_type": "display_data"
    }
   ],
   "source": [
    "import ee"
   ]
  },
  {
   "cell_type": "code",
   "execution_count": 14,
   "metadata": {},
   "outputs": [
    {
     "data": {
      "text/html": [
       "\n",
       "            <style>\n",
       "                .geemap-dark {\n",
       "                    --jp-widgets-color: white;\n",
       "                    --jp-widgets-label-color: white;\n",
       "                    --jp-ui-font-color1: white;\n",
       "                    --jp-layout-color2: #454545;\n",
       "                    background-color: #383838;\n",
       "                }\n",
       "\n",
       "                .geemap-dark .jupyter-button {\n",
       "                    --jp-layout-color3: #383838;\n",
       "                }\n",
       "\n",
       "                .geemap-colab {\n",
       "                    background-color: var(--colab-primary-surface-color, white);\n",
       "                }\n",
       "\n",
       "                .geemap-colab .jupyter-button {\n",
       "                    --jp-layout-color3: var(--colab-primary-surface-color, white);\n",
       "                }\n",
       "            </style>\n",
       "            "
      ],
      "text/plain": [
       "<IPython.core.display.HTML object>"
      ]
     },
     "metadata": {},
     "output_type": "display_data"
    },
    {
     "data": {
      "text/plain": [
       "True"
      ]
     },
     "execution_count": 14,
     "metadata": {},
     "output_type": "execute_result"
    }
   ],
   "source": [
    "ee.Authenticate()"
   ]
  },
  {
   "cell_type": "code",
   "execution_count": 15,
   "metadata": {},
   "outputs": [
    {
     "data": {
      "text/html": [
       "\n",
       "            <style>\n",
       "                .geemap-dark {\n",
       "                    --jp-widgets-color: white;\n",
       "                    --jp-widgets-label-color: white;\n",
       "                    --jp-ui-font-color1: white;\n",
       "                    --jp-layout-color2: #454545;\n",
       "                    background-color: #383838;\n",
       "                }\n",
       "\n",
       "                .geemap-dark .jupyter-button {\n",
       "                    --jp-layout-color3: #383838;\n",
       "                }\n",
       "\n",
       "                .geemap-colab {\n",
       "                    background-color: var(--colab-primary-surface-color, white);\n",
       "                }\n",
       "\n",
       "                .geemap-colab .jupyter-button {\n",
       "                    --jp-layout-color3: var(--colab-primary-surface-color, white);\n",
       "                }\n",
       "            </style>\n",
       "            "
      ],
      "text/plain": [
       "<IPython.core.display.HTML object>"
      ]
     },
     "metadata": {},
     "output_type": "display_data"
    }
   ],
   "source": [
    "ee.Initialize()"
   ]
  },
  {
   "cell_type": "code",
   "execution_count": 18,
   "metadata": {},
   "outputs": [
    {
     "data": {
      "text/html": [
       "\n",
       "            <style>\n",
       "                .geemap-dark {\n",
       "                    --jp-widgets-color: white;\n",
       "                    --jp-widgets-label-color: white;\n",
       "                    --jp-ui-font-color1: white;\n",
       "                    --jp-layout-color2: #454545;\n",
       "                    background-color: #383838;\n",
       "                }\n",
       "\n",
       "                .geemap-dark .jupyter-button {\n",
       "                    --jp-layout-color3: #383838;\n",
       "                }\n",
       "\n",
       "                .geemap-colab {\n",
       "                    background-color: var(--colab-primary-surface-color, white);\n",
       "                }\n",
       "\n",
       "                .geemap-colab .jupyter-button {\n",
       "                    --jp-layout-color3: var(--colab-primary-surface-color, white);\n",
       "                }\n",
       "            </style>\n",
       "            "
      ],
      "text/plain": [
       "<IPython.core.display.HTML object>"
      ]
     },
     "metadata": {},
     "output_type": "display_data"
    },
    {
     "name": "stdout",
     "output_type": "stream",
     "text": [
      "{'type': 'Image', 'bands': [{'id': 'B1', 'data_type': {'type': 'PixelType', 'precision': 'int', 'min': 0, 'max': 255}, 'dimensions': [7981, 6901], 'crs': 'EPSG:32648', 'crs_transform': [30, 0, 607485, 0, -30, 1384515]}, {'id': 'B2', 'data_type': {'type': 'PixelType', 'precision': 'int', 'min': 0, 'max': 255}, 'dimensions': [7981, 6901], 'crs': 'EPSG:32648', 'crs_transform': [30, 0, 607485, 0, -30, 1384515]}, {'id': 'B3', 'data_type': {'type': 'PixelType', 'precision': 'int', 'min': 0, 'max': 255}, 'dimensions': [7981, 6901], 'crs': 'EPSG:32648', 'crs_transform': [30, 0, 607485, 0, -30, 1384515]}, {'id': 'B4', 'data_type': {'type': 'PixelType', 'precision': 'int', 'min': 0, 'max': 255}, 'dimensions': [7981, 6901], 'crs': 'EPSG:32648', 'crs_transform': [30, 0, 607485, 0, -30, 1384515]}, {'id': 'B5', 'data_type': {'type': 'PixelType', 'precision': 'int', 'min': 0, 'max': 255}, 'dimensions': [7981, 6901], 'crs': 'EPSG:32648', 'crs_transform': [30, 0, 607485, 0, -30, 1384515]}, {'id': 'B6_VCID_1', 'data_type': {'type': 'PixelType', 'precision': 'int', 'min': 0, 'max': 255}, 'dimensions': [7981, 6901], 'crs': 'EPSG:32648', 'crs_transform': [30, 0, 607485, 0, -30, 1384515]}, {'id': 'B6_VCID_2', 'data_type': {'type': 'PixelType', 'precision': 'int', 'min': 0, 'max': 255}, 'dimensions': [7981, 6901], 'crs': 'EPSG:32648', 'crs_transform': [30, 0, 607485, 0, -30, 1384515]}, {'id': 'B7', 'data_type': {'type': 'PixelType', 'precision': 'int', 'min': 0, 'max': 255}, 'dimensions': [7981, 6901], 'crs': 'EPSG:32648', 'crs_transform': [30, 0, 607485, 0, -30, 1384515]}, {'id': 'B8', 'data_type': {'type': 'PixelType', 'precision': 'int', 'min': 0, 'max': 255}, 'dimensions': [15961, 13801], 'crs': 'EPSG:32648', 'crs_transform': [15, 0, 607492.5, 0, -15, 1384507.5]}, {'id': 'QA_PIXEL', 'data_type': {'type': 'PixelType', 'precision': 'int', 'min': 0, 'max': 65535}, 'dimensions': [7981, 6901], 'crs': 'EPSG:32648', 'crs_transform': [30, 0, 607485, 0, -30, 1384515]}, {'id': 'QA_RADSAT', 'data_type': {'type': 'PixelType', 'precision': 'int', 'min': 0, 'max': 65535}, 'dimensions': [7981, 6901], 'crs': 'EPSG:32648', 'crs_transform': [30, 0, 607485, 0, -30, 1384515]}, {'id': 'SAA', 'data_type': {'type': 'PixelType', 'precision': 'int', 'min': -32768, 'max': 32767}, 'dimensions': [7981, 6901], 'crs': 'EPSG:32648', 'crs_transform': [30, 0, 607485, 0, -30, 1384515]}, {'id': 'SZA', 'data_type': {'type': 'PixelType', 'precision': 'int', 'min': -32768, 'max': 32767}, 'dimensions': [7981, 6901], 'crs': 'EPSG:32648', 'crs_transform': [30, 0, 607485, 0, -30, 1384515]}, {'id': 'VAA', 'data_type': {'type': 'PixelType', 'precision': 'int', 'min': -32768, 'max': 32767}, 'dimensions': [7981, 6901], 'crs': 'EPSG:32648', 'crs_transform': [30, 0, 607485, 0, -30, 1384515]}, {'id': 'VZA', 'data_type': {'type': 'PixelType', 'precision': 'int', 'min': -32768, 'max': 32767}, 'dimensions': [7981, 6901], 'crs': 'EPSG:32648', 'crs_transform': [30, 0, 607485, 0, -30, 1384515]}], 'version': 1673111449347326, 'id': 'LANDSAT/LE07/C02/T1/LE07_124052_20221212', 'properties': {'RADIANCE_MULT_BAND_5': 0.12622, 'IMAGE_QUALITY': 9, 'RADIANCE_MULT_BAND_3': 0.62165, 'RADIANCE_MULT_BAND_4': 0.96929, 'RADIANCE_MULT_BAND_1': 0.77874, 'RADIANCE_MULT_BAND_2': 0.79882, 'WRS_TYPE': 2, 'CORRECTION_GAIN_BAND_6_VCID_2': 'CPF', 'CORRECTION_GAIN_BAND_6_VCID_1': 'CPF', 'CORRECTION_GAIN_BAND_2': 'CPF', 'CORRECTION_GAIN_BAND_1': 'CPF', 'system:footprint': {'type': 'LinearRing', 'coordinates': [[108.1543382177793, 12.086996433174344], [108.18378078355141, 12.222393719449316], [108.18784858786857, 12.242129947752469], [108.18824492874595, 12.251381192240942], [108.18258291132517, 12.259375257246012], [108.17199363855543, 12.261696281585252], [108.12209526925474, 12.269622683454168], [106.32933683899259, 12.517897679821159], [106.3267071388078, 12.517265496892257], [106.30845510453678, 12.431834768877481], [106.1489584683346, 11.674752719094645], [105.98713991375011, 10.901283350059563], [105.98803804190723, 10.896768502782056], [107.76572049105192, 10.650554768519633], [107.82195367623105, 10.642759783970385], [107.8336016200247, 10.641744328257596], [107.8426152805082, 10.64338550612692], [107.8520789957928, 10.68674962555577], [107.91479331110025, 10.977280004844042], [108.04017784842945, 11.559911413868846], [108.1543382177793, 12.086996433174344]]}, 'REFLECTIVE_SAMPLES': 7981, 'CORRECTION_GAIN_BAND_8': 'CPF', 'CORRECTION_GAIN_BAND_7': 'CPF', 'CORRECTION_GAIN_BAND_5': 'CPF', 'SUN_AZIMUTH': 125.34292859, 'CORRECTION_GAIN_BAND_4': 'CPF', 'CORRECTION_GAIN_BAND_3': 'CPF', 'GAIN_CHANGE_BAND_7': 'HH', 'GAIN_CHANGE_BAND_8': 'LL', 'GAIN_CHANGE_BAND_5': 'HH', 'DATE_ACQUIRED': '2022-12-12', 'GAIN_CHANGE_BAND_3': 'HH', 'ELLIPSOID': 'WGS84', 'GAIN_CHANGE_BAND_4': 'LL', 'GAIN_CHANGE_BAND_1': 'HH', 'GAIN_CHANGE_BAND_2': 'HH', 'RADIANCE_ADD_BAND_6_VCID_1': -0.06709, 'RADIANCE_ADD_BAND_6_VCID_2': 3.1628, 'SENSOR_MODE': 'BUMPER', 'STATION_ID': 'EDC', 'RESAMPLING_OPTION': 'CUBIC_CONVOLUTION', 'ORIENTATION': 'NORTH_UP', 'WRS_ROW': 52, 'GAIN_BAND_6_VCID_2': 'H', 'RADIANCE_MULT_BAND_7': 0.043898, 'GAIN_BAND_6_VCID_1': 'L', 'RADIANCE_MULT_BAND_8': 0.97559, 'CLOUD_COVER': 4, 'COLLECTION_CATEGORY': 'T1', 'GRID_CELL_SIZE_REFLECTIVE': 30, 'RADIANCE_MULT_BAND_6_VCID_1': 0.067087, 'CLOUD_COVER_LAND': 4, 'RADIANCE_MULT_BAND_6_VCID_2': 0.037205, 'GEOMETRIC_RMSE_MODEL': 6.086, 'COLLECTION_NUMBER': 2, 'LANDSAT_SCENE_ID': 'LE71240522022346EDC00', 'WRS_PATH': 124, 'PANCHROMATIC_SAMPLES': 15961, 'PANCHROMATIC_LINES': 13801, 'GEOMETRIC_RMSE_MODEL_Y': 4.756, 'REFLECTIVE_LINES': 6901, 'GEOMETRIC_RMSE_MODEL_X': 3.797, 'system:asset_size': 302415957, 'system:index': 'LE07_124052_20221212', 'DATA_SOURCE_ELEVATION': 'GLS2000', 'SENSOR_ANOMALIES': 'NONE', 'GAIN_BAND_4': 'L', 'REFLECTANCE_ADD_BAND_1': -0.01044, 'GAIN_BAND_5': 'H', 'REFLECTANCE_ADD_BAND_2': -0.011813, 'DATUM': 'WGS84', 'GAIN_BAND_2': 'H', 'REFLECTANCE_ADD_BAND_3': -0.011228, 'GAIN_BAND_3': 'H', 'REFLECTANCE_ADD_BAND_4': -0.01726, 'GAIN_BAND_8': 'L', 'REFLECTANCE_ADD_BAND_5': -0.015479, 'REFLECTANCE_ADD_BAND_7': -0.014746, 'GAIN_BAND_7': 'H', 'REFLECTANCE_ADD_BAND_8': -0.013106, 'GROUND_CONTROL_POINTS_VERSION': 5, 'GAIN_BAND_1': 'H', 'K2_CONSTANT_BAND_6_VCID_2': 1282.71, 'K2_CONSTANT_BAND_6_VCID_1': 1282.71, 'CORRECTION_BIAS_BAND_2': 'INTERNAL_CALIBRATION', 'CORRECTION_BIAS_BAND_1': 'INTERNAL_CALIBRATION', 'CORRECTION_BIAS_BAND_4': 'INTERNAL_CALIBRATION', 'CORRECTION_BIAS_BAND_3': 'INTERNAL_CALIBRATION', 'GAIN_CHANGE_SCAN_BAND_6_VCID_1': 0, 'UTM_ZONE': 48, 'GAIN_CHANGE_SCAN_BAND_6_VCID_2': 0, 'system:time_end': 1670808246869, 'LANDSAT_PRODUCT_ID': 'LE07_L1TP_124052_20221212_20230106_02_T1', 'GRID_CELL_SIZE_PANCHROMATIC': 15, 'RADIANCE_ADD_BAND_4': -6.06929, 'REFLECTANCE_MULT_BAND_7': 0.0016433, 'system:time_start': 1670808246869, 'RADIANCE_ADD_BAND_5': -1.12622, 'PROCESSING_SOFTWARE_VERSION': 'LPGS_16.1.0', 'RADIANCE_ADD_BAND_7': -0.3939, 'REFLECTANCE_MULT_BAND_8': 0.0022528, 'EPHEMERIS_TYPE': 'DEFINITIVE', 'RADIANCE_ADD_BAND_1': -6.97874, 'RADIANCE_ADD_BAND_2': -7.19882, 'RADIANCE_ADD_BAND_3': -5.62165, 'K1_CONSTANT_BAND_6_VCID_2': 666.09, 'CORRECTION_BIAS_BAND_6_VCID_2': 'INTERNAL_CALIBRATION', 'REFLECTANCE_MULT_BAND_1': 0.001165, 'CORRECTION_BIAS_BAND_6_VCID_1': 'INTERNAL_CALIBRATION', 'RADIANCE_ADD_BAND_8': -5.67559, 'REFLECTANCE_MULT_BAND_3': 0.0012416, 'CORRECTION_BIAS_BAND_5': 'INTERNAL_CALIBRATION', 'REFLECTANCE_MULT_BAND_2': 0.0013109, 'CORRECTION_BIAS_BAND_8': 'INTERNAL_CALIBRATION', 'REFLECTANCE_MULT_BAND_5': 0.0017348, 'CORRECTION_BIAS_BAND_7': 'INTERNAL_CALIBRATION', 'K1_CONSTANT_BAND_6_VCID_1': 666.09, 'REFLECTANCE_MULT_BAND_4': 0.0027565, 'THERMAL_LINES': 6901, 'GAIN_CHANGE_SCAN_BAND_1': 0, 'GRID_CELL_SIZE_THERMAL': 30, 'GAIN_CHANGE_SCAN_BAND_2': 0, 'GAIN_CHANGE_SCAN_BAND_3': 0, 'GAIN_CHANGE_SCAN_BAND_4': 0, 'GAIN_CHANGE_SCAN_BAND_5': 0, 'REQUEST_ID': '1623259_00081', 'EARTH_SUN_DISTANCE': 0.9846264, 'SCENE_CENTER_TIME': '01:24:06.8697758Z', 'SUN_ELEVATION': 29.85172769, 'SATURATION_BAND_6_VCID_1': 'N', 'SATURATION_BAND_6_VCID_2': 'N', 'SCAN_GAP_INTERPOLATION': 2, 'DATE_PRODUCT_GENERATED': 1673005868000, 'SATURATION_BAND_1': 'Y', 'SENSOR_MODE_SLC': 'OFF', 'SATURATION_BAND_2': 'Y', 'SATURATION_BAND_3': 'Y', 'SATURATION_BAND_4': 'Y', 'SATURATION_BAND_5': 'Y', 'MAP_PROJECTION': 'UTM', 'SENSOR_ID': 'ETM', 'SATURATION_BAND_7': 'Y', 'SATURATION_BAND_8': 'N', 'PROCESSING_LEVEL': 'L1TP', 'GROUND_CONTROL_POINTS_MODEL': 250, 'SPACECRAFT_ID': 'LANDSAT_7', 'GAIN_CHANGE_SCAN_BAND_7': 0, 'GAIN_CHANGE_SCAN_BAND_8': 0, 'GAIN_CHANGE_BAND_6_VCID_1': 'LL', 'GAIN_CHANGE_BAND_6_VCID_2': 'HH', 'THERMAL_SAMPLES': 7981}}\n"
     ]
    }
   ],
   "source": [
    "aoi = ee.Geometry.Rectangle([105.0, 10.0, 106.0, 11.0])  # Ví dụ tọa độ TP HCM\n",
    "\n",
    "# Lọc bộ sưu tập Landsat 8 Surface Reflectance (Landsat 8 SR)\n",
    "landsat_collection = ee.ImageCollection(\"LANDSAT/LE07/C02/T1\") \\\n",
    "    .filterBounds(aoi) \\\n",
    "    .filterDate('2019-01-01', '2023-12-31') \\\n",
    "    .filter(ee.Filter.lt('CLOUD_COVER', 20))  # Lọc theo mức độ che phủ mây dưới 20%\n",
    "\n",
    "# Lấy hình ảnh đầu tiên trong bộ sưu tập\n",
    "landsat_image = landsat_collection.first()\n",
    "\n",
    "# Xem thông tin về ảnh\n",
    "info = landsat_image.getInfo()\n",
    "print(info)"
   ]
  },
  {
   "cell_type": "code",
   "execution_count": 19,
   "metadata": {},
   "outputs": [
    {
     "data": {
      "text/html": [
       "\n",
       "            <style>\n",
       "                .geemap-dark {\n",
       "                    --jp-widgets-color: white;\n",
       "                    --jp-widgets-label-color: white;\n",
       "                    --jp-ui-font-color1: white;\n",
       "                    --jp-layout-color2: #454545;\n",
       "                    background-color: #383838;\n",
       "                }\n",
       "\n",
       "                .geemap-dark .jupyter-button {\n",
       "                    --jp-layout-color3: #383838;\n",
       "                }\n",
       "\n",
       "                .geemap-colab {\n",
       "                    background-color: var(--colab-primary-surface-color, white);\n",
       "                }\n",
       "\n",
       "                .geemap-colab .jupyter-button {\n",
       "                    --jp-layout-color3: var(--colab-primary-surface-color, white);\n",
       "                }\n",
       "            </style>\n",
       "            "
      ],
      "text/plain": [
       "<IPython.core.display.HTML object>"
      ]
     },
     "metadata": {},
     "output_type": "display_data"
    },
    {
     "data": {
      "text/html": [
       "<div><style>:root {\n",
       "  --font-color-primary: var(--jp-content-font-color0, rgba(0, 0, 0, 1));\n",
       "  --font-color-secondary: var(--jp-content-font-color2, rgba(0, 0, 0, 0.6));\n",
       "  --font-color-accent: rgba(123, 31, 162, 1);\n",
       "  --border-color: var(--jp-border-color2, #e0e0e0);\n",
       "  --background-color: var(--jp-layout-color0, white);\n",
       "  --background-color-row-even: var(--jp-layout-color1, white);\n",
       "  --background-color-row-odd: var(--jp-layout-color2, #eeeeee);\n",
       "}\n",
       "\n",
       "html[theme=\"dark\"],\n",
       "body[data-theme=\"dark\"],\n",
       "body.vscode-dark {\n",
       "  --font-color-primary: rgba(255, 255, 255, 1);\n",
       "  --font-color-secondary: rgba(255, 255, 255, 0.6);\n",
       "  --font-color-accent: rgb(173, 132, 190);\n",
       "  --border-color: #2e2e2e;\n",
       "  --background-color: #111111;\n",
       "  --background-color-row-even: #111111;\n",
       "  --background-color-row-odd: #313131;\n",
       "}\n",
       "\n",
       ".ee {\n",
       "  padding: 1em;\n",
       "  line-height: 1.5em;\n",
       "  min-width: 300px;\n",
       "  max-width: 1200px;\n",
       "  overflow-y: scroll;\n",
       "  max-height: 600px;\n",
       "  border: 1px solid var(--border-color);\n",
       "  font-family: monospace;\n",
       "}\n",
       "\n",
       ".ee li {\n",
       "  list-style-type: none;\n",
       "}\n",
       "\n",
       ".ee ul {\n",
       "  padding-left: 1.5em !important;\n",
       "  margin: 0;\n",
       "}\n",
       "\n",
       ".ee > ul {\n",
       "  padding-left: 0 !important;\n",
       "}\n",
       "\n",
       ".ee-open,\n",
       ".ee-shut {\n",
       "  color: var(--font-color-secondary);\n",
       "  cursor: pointer;\n",
       "  margin: 0;\n",
       "}\n",
       "\n",
       ".ee-open:hover,\n",
       ".ee-shut:hover {\n",
       "  color: var(--font-color-primary);\n",
       "}\n",
       "\n",
       ".ee-k {\n",
       "  color: var(--font-color-accent);\n",
       "  margin-right: 6px;\n",
       "}\n",
       "\n",
       ".ee-v {\n",
       "  color: var(--font-color-primary);\n",
       "}\n",
       "\n",
       ".ee-toggle {\n",
       "  display: none;\n",
       "}\n",
       "\n",
       ".ee-shut + ul {\n",
       "  display: none;\n",
       "}\n",
       "\n",
       ".ee-open + ul {\n",
       "  display: block;\n",
       "}\n",
       "\n",
       ".ee-shut::before {\n",
       "  display: inline-block;\n",
       "  content: \"▼\";\n",
       "  margin-right: 6px;\n",
       "  transform: rotate(-90deg);\n",
       "  transition: transform 0.2s;\n",
       "}\n",
       "\n",
       ".ee-open::before {\n",
       "  transform: rotate(0deg);\n",
       "  display: inline-block;\n",
       "  content: \"▼\";\n",
       "  margin-right: 6px;\n",
       "  transition: transform 0.2s;\n",
       "}\n",
       "</style><div class='ee'><ul><li><label class='ee-shut'>Image LANDSAT/LE07/C02/T1/LE07_124052_20221212 (15 bands)<input type='checkbox' class='ee-toggle'></label><ul><li><span class='ee-k'>type:</span><span class='ee-v'>Image</span></li><li><span class='ee-k'>id:</span><span class='ee-v'>LANDSAT/LE07/C02/T1/LE07_124052_20221212</span></li><li><span class='ee-k'>version:</span><span class='ee-v'>1673111449347326</span></li><li><label class='ee-shut'>bands: List (15 elements)<input type='checkbox' class='ee-toggle'></label><ul><li><label class='ee-shut'>0: \"B1\", unsigned int8, EPSG:32648, 7981x6901 px<input type='checkbox' class='ee-toggle'></label><ul><li><span class='ee-k'>id:</span><span class='ee-v'>B1</span></li><li><span class='ee-k'>crs:</span><span class='ee-v'>EPSG:32648</span></li><li><label class='ee-shut'>crs_transform: [30, 0, 607485, 0, -30, 1384515]<input type='checkbox' class='ee-toggle'></label><ul><li><span class='ee-k'>0:</span><span class='ee-v'>30</span></li><li><span class='ee-k'>1:</span><span class='ee-v'>0</span></li><li><span class='ee-k'>2:</span><span class='ee-v'>607485</span></li><li><span class='ee-k'>3:</span><span class='ee-v'>0</span></li><li><span class='ee-k'>4:</span><span class='ee-v'>-30</span></li><li><span class='ee-k'>5:</span><span class='ee-v'>1384515</span></li></ul></li><li><label class='ee-shut'>data_type: unsigned int8<input type='checkbox' class='ee-toggle'></label><ul><li><span class='ee-k'>type:</span><span class='ee-v'>PixelType</span></li><li><span class='ee-k'>max:</span><span class='ee-v'>255</span></li><li><span class='ee-k'>min:</span><span class='ee-v'>0</span></li><li><span class='ee-k'>precision:</span><span class='ee-v'>int</span></li></ul></li><li><label class='ee-shut'>dimensions: [7981, 6901]<input type='checkbox' class='ee-toggle'></label><ul><li><span class='ee-k'>0:</span><span class='ee-v'>7981</span></li><li><span class='ee-k'>1:</span><span class='ee-v'>6901</span></li></ul></li></ul></li><li><label class='ee-shut'>1: \"B2\", unsigned int8, EPSG:32648, 7981x6901 px<input type='checkbox' class='ee-toggle'></label><ul><li><span class='ee-k'>id:</span><span class='ee-v'>B2</span></li><li><span class='ee-k'>crs:</span><span class='ee-v'>EPSG:32648</span></li><li><label class='ee-shut'>crs_transform: [30, 0, 607485, 0, -30, 1384515]<input type='checkbox' class='ee-toggle'></label><ul><li><span class='ee-k'>0:</span><span class='ee-v'>30</span></li><li><span class='ee-k'>1:</span><span class='ee-v'>0</span></li><li><span class='ee-k'>2:</span><span class='ee-v'>607485</span></li><li><span class='ee-k'>3:</span><span class='ee-v'>0</span></li><li><span class='ee-k'>4:</span><span class='ee-v'>-30</span></li><li><span class='ee-k'>5:</span><span class='ee-v'>1384515</span></li></ul></li><li><label class='ee-shut'>data_type: unsigned int8<input type='checkbox' class='ee-toggle'></label><ul><li><span class='ee-k'>type:</span><span class='ee-v'>PixelType</span></li><li><span class='ee-k'>max:</span><span class='ee-v'>255</span></li><li><span class='ee-k'>min:</span><span class='ee-v'>0</span></li><li><span class='ee-k'>precision:</span><span class='ee-v'>int</span></li></ul></li><li><label class='ee-shut'>dimensions: [7981, 6901]<input type='checkbox' class='ee-toggle'></label><ul><li><span class='ee-k'>0:</span><span class='ee-v'>7981</span></li><li><span class='ee-k'>1:</span><span class='ee-v'>6901</span></li></ul></li></ul></li><li><label class='ee-shut'>2: \"B3\", unsigned int8, EPSG:32648, 7981x6901 px<input type='checkbox' class='ee-toggle'></label><ul><li><span class='ee-k'>id:</span><span class='ee-v'>B3</span></li><li><span class='ee-k'>crs:</span><span class='ee-v'>EPSG:32648</span></li><li><label class='ee-shut'>crs_transform: [30, 0, 607485, 0, -30, 1384515]<input type='checkbox' class='ee-toggle'></label><ul><li><span class='ee-k'>0:</span><span class='ee-v'>30</span></li><li><span class='ee-k'>1:</span><span class='ee-v'>0</span></li><li><span class='ee-k'>2:</span><span class='ee-v'>607485</span></li><li><span class='ee-k'>3:</span><span class='ee-v'>0</span></li><li><span class='ee-k'>4:</span><span class='ee-v'>-30</span></li><li><span class='ee-k'>5:</span><span class='ee-v'>1384515</span></li></ul></li><li><label class='ee-shut'>data_type: unsigned int8<input type='checkbox' class='ee-toggle'></label><ul><li><span class='ee-k'>type:</span><span class='ee-v'>PixelType</span></li><li><span class='ee-k'>max:</span><span class='ee-v'>255</span></li><li><span class='ee-k'>min:</span><span class='ee-v'>0</span></li><li><span class='ee-k'>precision:</span><span class='ee-v'>int</span></li></ul></li><li><label class='ee-shut'>dimensions: [7981, 6901]<input type='checkbox' class='ee-toggle'></label><ul><li><span class='ee-k'>0:</span><span class='ee-v'>7981</span></li><li><span class='ee-k'>1:</span><span class='ee-v'>6901</span></li></ul></li></ul></li><li><label class='ee-shut'>3: \"B4\", unsigned int8, EPSG:32648, 7981x6901 px<input type='checkbox' class='ee-toggle'></label><ul><li><span class='ee-k'>id:</span><span class='ee-v'>B4</span></li><li><span class='ee-k'>crs:</span><span class='ee-v'>EPSG:32648</span></li><li><label class='ee-shut'>crs_transform: [30, 0, 607485, 0, -30, 1384515]<input type='checkbox' class='ee-toggle'></label><ul><li><span class='ee-k'>0:</span><span class='ee-v'>30</span></li><li><span class='ee-k'>1:</span><span class='ee-v'>0</span></li><li><span class='ee-k'>2:</span><span class='ee-v'>607485</span></li><li><span class='ee-k'>3:</span><span class='ee-v'>0</span></li><li><span class='ee-k'>4:</span><span class='ee-v'>-30</span></li><li><span class='ee-k'>5:</span><span class='ee-v'>1384515</span></li></ul></li><li><label class='ee-shut'>data_type: unsigned int8<input type='checkbox' class='ee-toggle'></label><ul><li><span class='ee-k'>type:</span><span class='ee-v'>PixelType</span></li><li><span class='ee-k'>max:</span><span class='ee-v'>255</span></li><li><span class='ee-k'>min:</span><span class='ee-v'>0</span></li><li><span class='ee-k'>precision:</span><span class='ee-v'>int</span></li></ul></li><li><label class='ee-shut'>dimensions: [7981, 6901]<input type='checkbox' class='ee-toggle'></label><ul><li><span class='ee-k'>0:</span><span class='ee-v'>7981</span></li><li><span class='ee-k'>1:</span><span class='ee-v'>6901</span></li></ul></li></ul></li><li><label class='ee-shut'>4: \"B5\", unsigned int8, EPSG:32648, 7981x6901 px<input type='checkbox' class='ee-toggle'></label><ul><li><span class='ee-k'>id:</span><span class='ee-v'>B5</span></li><li><span class='ee-k'>crs:</span><span class='ee-v'>EPSG:32648</span></li><li><label class='ee-shut'>crs_transform: [30, 0, 607485, 0, -30, 1384515]<input type='checkbox' class='ee-toggle'></label><ul><li><span class='ee-k'>0:</span><span class='ee-v'>30</span></li><li><span class='ee-k'>1:</span><span class='ee-v'>0</span></li><li><span class='ee-k'>2:</span><span class='ee-v'>607485</span></li><li><span class='ee-k'>3:</span><span class='ee-v'>0</span></li><li><span class='ee-k'>4:</span><span class='ee-v'>-30</span></li><li><span class='ee-k'>5:</span><span class='ee-v'>1384515</span></li></ul></li><li><label class='ee-shut'>data_type: unsigned int8<input type='checkbox' class='ee-toggle'></label><ul><li><span class='ee-k'>type:</span><span class='ee-v'>PixelType</span></li><li><span class='ee-k'>max:</span><span class='ee-v'>255</span></li><li><span class='ee-k'>min:</span><span class='ee-v'>0</span></li><li><span class='ee-k'>precision:</span><span class='ee-v'>int</span></li></ul></li><li><label class='ee-shut'>dimensions: [7981, 6901]<input type='checkbox' class='ee-toggle'></label><ul><li><span class='ee-k'>0:</span><span class='ee-v'>7981</span></li><li><span class='ee-k'>1:</span><span class='ee-v'>6901</span></li></ul></li></ul></li><li><label class='ee-shut'>5: \"B6_VCID_1\", unsigned int8, EPSG:32648, 7981x6901 px<input type='checkbox' class='ee-toggle'></label><ul><li><span class='ee-k'>id:</span><span class='ee-v'>B6_VCID_1</span></li><li><span class='ee-k'>crs:</span><span class='ee-v'>EPSG:32648</span></li><li><label class='ee-shut'>crs_transform: [30, 0, 607485, 0, -30, 1384515]<input type='checkbox' class='ee-toggle'></label><ul><li><span class='ee-k'>0:</span><span class='ee-v'>30</span></li><li><span class='ee-k'>1:</span><span class='ee-v'>0</span></li><li><span class='ee-k'>2:</span><span class='ee-v'>607485</span></li><li><span class='ee-k'>3:</span><span class='ee-v'>0</span></li><li><span class='ee-k'>4:</span><span class='ee-v'>-30</span></li><li><span class='ee-k'>5:</span><span class='ee-v'>1384515</span></li></ul></li><li><label class='ee-shut'>data_type: unsigned int8<input type='checkbox' class='ee-toggle'></label><ul><li><span class='ee-k'>type:</span><span class='ee-v'>PixelType</span></li><li><span class='ee-k'>max:</span><span class='ee-v'>255</span></li><li><span class='ee-k'>min:</span><span class='ee-v'>0</span></li><li><span class='ee-k'>precision:</span><span class='ee-v'>int</span></li></ul></li><li><label class='ee-shut'>dimensions: [7981, 6901]<input type='checkbox' class='ee-toggle'></label><ul><li><span class='ee-k'>0:</span><span class='ee-v'>7981</span></li><li><span class='ee-k'>1:</span><span class='ee-v'>6901</span></li></ul></li></ul></li><li><label class='ee-shut'>6: \"B6_VCID_2\", unsigned int8, EPSG:32648, 7981x6901 px<input type='checkbox' class='ee-toggle'></label><ul><li><span class='ee-k'>id:</span><span class='ee-v'>B6_VCID_2</span></li><li><span class='ee-k'>crs:</span><span class='ee-v'>EPSG:32648</span></li><li><label class='ee-shut'>crs_transform: [30, 0, 607485, 0, -30, 1384515]<input type='checkbox' class='ee-toggle'></label><ul><li><span class='ee-k'>0:</span><span class='ee-v'>30</span></li><li><span class='ee-k'>1:</span><span class='ee-v'>0</span></li><li><span class='ee-k'>2:</span><span class='ee-v'>607485</span></li><li><span class='ee-k'>3:</span><span class='ee-v'>0</span></li><li><span class='ee-k'>4:</span><span class='ee-v'>-30</span></li><li><span class='ee-k'>5:</span><span class='ee-v'>1384515</span></li></ul></li><li><label class='ee-shut'>data_type: unsigned int8<input type='checkbox' class='ee-toggle'></label><ul><li><span class='ee-k'>type:</span><span class='ee-v'>PixelType</span></li><li><span class='ee-k'>max:</span><span class='ee-v'>255</span></li><li><span class='ee-k'>min:</span><span class='ee-v'>0</span></li><li><span class='ee-k'>precision:</span><span class='ee-v'>int</span></li></ul></li><li><label class='ee-shut'>dimensions: [7981, 6901]<input type='checkbox' class='ee-toggle'></label><ul><li><span class='ee-k'>0:</span><span class='ee-v'>7981</span></li><li><span class='ee-k'>1:</span><span class='ee-v'>6901</span></li></ul></li></ul></li><li><label class='ee-shut'>7: \"B7\", unsigned int8, EPSG:32648, 7981x6901 px<input type='checkbox' class='ee-toggle'></label><ul><li><span class='ee-k'>id:</span><span class='ee-v'>B7</span></li><li><span class='ee-k'>crs:</span><span class='ee-v'>EPSG:32648</span></li><li><label class='ee-shut'>crs_transform: [30, 0, 607485, 0, -30, 1384515]<input type='checkbox' class='ee-toggle'></label><ul><li><span class='ee-k'>0:</span><span class='ee-v'>30</span></li><li><span class='ee-k'>1:</span><span class='ee-v'>0</span></li><li><span class='ee-k'>2:</span><span class='ee-v'>607485</span></li><li><span class='ee-k'>3:</span><span class='ee-v'>0</span></li><li><span class='ee-k'>4:</span><span class='ee-v'>-30</span></li><li><span class='ee-k'>5:</span><span class='ee-v'>1384515</span></li></ul></li><li><label class='ee-shut'>data_type: unsigned int8<input type='checkbox' class='ee-toggle'></label><ul><li><span class='ee-k'>type:</span><span class='ee-v'>PixelType</span></li><li><span class='ee-k'>max:</span><span class='ee-v'>255</span></li><li><span class='ee-k'>min:</span><span class='ee-v'>0</span></li><li><span class='ee-k'>precision:</span><span class='ee-v'>int</span></li></ul></li><li><label class='ee-shut'>dimensions: [7981, 6901]<input type='checkbox' class='ee-toggle'></label><ul><li><span class='ee-k'>0:</span><span class='ee-v'>7981</span></li><li><span class='ee-k'>1:</span><span class='ee-v'>6901</span></li></ul></li></ul></li><li><label class='ee-shut'>8: \"B8\", unsigned int8, EPSG:32648, 15961x13801 px<input type='checkbox' class='ee-toggle'></label><ul><li><span class='ee-k'>id:</span><span class='ee-v'>B8</span></li><li><span class='ee-k'>crs:</span><span class='ee-v'>EPSG:32648</span></li><li><label class='ee-shut'>crs_transform: [15, 0, 607492.5, 0, -15, 1384507.5]<input type='checkbox' class='ee-toggle'></label><ul><li><span class='ee-k'>0:</span><span class='ee-v'>15</span></li><li><span class='ee-k'>1:</span><span class='ee-v'>0</span></li><li><span class='ee-k'>2:</span><span class='ee-v'>607492.5</span></li><li><span class='ee-k'>3:</span><span class='ee-v'>0</span></li><li><span class='ee-k'>4:</span><span class='ee-v'>-15</span></li><li><span class='ee-k'>5:</span><span class='ee-v'>1384507.5</span></li></ul></li><li><label class='ee-shut'>data_type: unsigned int8<input type='checkbox' class='ee-toggle'></label><ul><li><span class='ee-k'>type:</span><span class='ee-v'>PixelType</span></li><li><span class='ee-k'>max:</span><span class='ee-v'>255</span></li><li><span class='ee-k'>min:</span><span class='ee-v'>0</span></li><li><span class='ee-k'>precision:</span><span class='ee-v'>int</span></li></ul></li><li><label class='ee-shut'>dimensions: [15961, 13801]<input type='checkbox' class='ee-toggle'></label><ul><li><span class='ee-k'>0:</span><span class='ee-v'>15961</span></li><li><span class='ee-k'>1:</span><span class='ee-v'>13801</span></li></ul></li></ul></li><li><label class='ee-shut'>9: \"QA_PIXEL\", unsigned int16, EPSG:32648, 7981x6901 px<input type='checkbox' class='ee-toggle'></label><ul><li><span class='ee-k'>id:</span><span class='ee-v'>QA_PIXEL</span></li><li><span class='ee-k'>crs:</span><span class='ee-v'>EPSG:32648</span></li><li><label class='ee-shut'>crs_transform: [30, 0, 607485, 0, -30, 1384515]<input type='checkbox' class='ee-toggle'></label><ul><li><span class='ee-k'>0:</span><span class='ee-v'>30</span></li><li><span class='ee-k'>1:</span><span class='ee-v'>0</span></li><li><span class='ee-k'>2:</span><span class='ee-v'>607485</span></li><li><span class='ee-k'>3:</span><span class='ee-v'>0</span></li><li><span class='ee-k'>4:</span><span class='ee-v'>-30</span></li><li><span class='ee-k'>5:</span><span class='ee-v'>1384515</span></li></ul></li><li><label class='ee-shut'>data_type: unsigned int16<input type='checkbox' class='ee-toggle'></label><ul><li><span class='ee-k'>type:</span><span class='ee-v'>PixelType</span></li><li><span class='ee-k'>max:</span><span class='ee-v'>65535</span></li><li><span class='ee-k'>min:</span><span class='ee-v'>0</span></li><li><span class='ee-k'>precision:</span><span class='ee-v'>int</span></li></ul></li><li><label class='ee-shut'>dimensions: [7981, 6901]<input type='checkbox' class='ee-toggle'></label><ul><li><span class='ee-k'>0:</span><span class='ee-v'>7981</span></li><li><span class='ee-k'>1:</span><span class='ee-v'>6901</span></li></ul></li></ul></li><li><label class='ee-shut'>10: \"QA_RADSAT\", unsigned int16, EPSG:32648, 7981x6901 px<input type='checkbox' class='ee-toggle'></label><ul><li><span class='ee-k'>id:</span><span class='ee-v'>QA_RADSAT</span></li><li><span class='ee-k'>crs:</span><span class='ee-v'>EPSG:32648</span></li><li><label class='ee-shut'>crs_transform: [30, 0, 607485, 0, -30, 1384515]<input type='checkbox' class='ee-toggle'></label><ul><li><span class='ee-k'>0:</span><span class='ee-v'>30</span></li><li><span class='ee-k'>1:</span><span class='ee-v'>0</span></li><li><span class='ee-k'>2:</span><span class='ee-v'>607485</span></li><li><span class='ee-k'>3:</span><span class='ee-v'>0</span></li><li><span class='ee-k'>4:</span><span class='ee-v'>-30</span></li><li><span class='ee-k'>5:</span><span class='ee-v'>1384515</span></li></ul></li><li><label class='ee-shut'>data_type: unsigned int16<input type='checkbox' class='ee-toggle'></label><ul><li><span class='ee-k'>type:</span><span class='ee-v'>PixelType</span></li><li><span class='ee-k'>max:</span><span class='ee-v'>65535</span></li><li><span class='ee-k'>min:</span><span class='ee-v'>0</span></li><li><span class='ee-k'>precision:</span><span class='ee-v'>int</span></li></ul></li><li><label class='ee-shut'>dimensions: [7981, 6901]<input type='checkbox' class='ee-toggle'></label><ul><li><span class='ee-k'>0:</span><span class='ee-v'>7981</span></li><li><span class='ee-k'>1:</span><span class='ee-v'>6901</span></li></ul></li></ul></li><li><label class='ee-shut'>11: \"SAA\", signed int16, EPSG:32648, 7981x6901 px<input type='checkbox' class='ee-toggle'></label><ul><li><span class='ee-k'>id:</span><span class='ee-v'>SAA</span></li><li><span class='ee-k'>crs:</span><span class='ee-v'>EPSG:32648</span></li><li><label class='ee-shut'>crs_transform: [30, 0, 607485, 0, -30, 1384515]<input type='checkbox' class='ee-toggle'></label><ul><li><span class='ee-k'>0:</span><span class='ee-v'>30</span></li><li><span class='ee-k'>1:</span><span class='ee-v'>0</span></li><li><span class='ee-k'>2:</span><span class='ee-v'>607485</span></li><li><span class='ee-k'>3:</span><span class='ee-v'>0</span></li><li><span class='ee-k'>4:</span><span class='ee-v'>-30</span></li><li><span class='ee-k'>5:</span><span class='ee-v'>1384515</span></li></ul></li><li><label class='ee-shut'>data_type: signed int16<input type='checkbox' class='ee-toggle'></label><ul><li><span class='ee-k'>type:</span><span class='ee-v'>PixelType</span></li><li><span class='ee-k'>max:</span><span class='ee-v'>32767</span></li><li><span class='ee-k'>min:</span><span class='ee-v'>-32768</span></li><li><span class='ee-k'>precision:</span><span class='ee-v'>int</span></li></ul></li><li><label class='ee-shut'>dimensions: [7981, 6901]<input type='checkbox' class='ee-toggle'></label><ul><li><span class='ee-k'>0:</span><span class='ee-v'>7981</span></li><li><span class='ee-k'>1:</span><span class='ee-v'>6901</span></li></ul></li></ul></li><li><label class='ee-shut'>12: \"SZA\", signed int16, EPSG:32648, 7981x6901 px<input type='checkbox' class='ee-toggle'></label><ul><li><span class='ee-k'>id:</span><span class='ee-v'>SZA</span></li><li><span class='ee-k'>crs:</span><span class='ee-v'>EPSG:32648</span></li><li><label class='ee-shut'>crs_transform: [30, 0, 607485, 0, -30, 1384515]<input type='checkbox' class='ee-toggle'></label><ul><li><span class='ee-k'>0:</span><span class='ee-v'>30</span></li><li><span class='ee-k'>1:</span><span class='ee-v'>0</span></li><li><span class='ee-k'>2:</span><span class='ee-v'>607485</span></li><li><span class='ee-k'>3:</span><span class='ee-v'>0</span></li><li><span class='ee-k'>4:</span><span class='ee-v'>-30</span></li><li><span class='ee-k'>5:</span><span class='ee-v'>1384515</span></li></ul></li><li><label class='ee-shut'>data_type: signed int16<input type='checkbox' class='ee-toggle'></label><ul><li><span class='ee-k'>type:</span><span class='ee-v'>PixelType</span></li><li><span class='ee-k'>max:</span><span class='ee-v'>32767</span></li><li><span class='ee-k'>min:</span><span class='ee-v'>-32768</span></li><li><span class='ee-k'>precision:</span><span class='ee-v'>int</span></li></ul></li><li><label class='ee-shut'>dimensions: [7981, 6901]<input type='checkbox' class='ee-toggle'></label><ul><li><span class='ee-k'>0:</span><span class='ee-v'>7981</span></li><li><span class='ee-k'>1:</span><span class='ee-v'>6901</span></li></ul></li></ul></li><li><label class='ee-shut'>13: \"VAA\", signed int16, EPSG:32648, 7981x6901 px<input type='checkbox' class='ee-toggle'></label><ul><li><span class='ee-k'>id:</span><span class='ee-v'>VAA</span></li><li><span class='ee-k'>crs:</span><span class='ee-v'>EPSG:32648</span></li><li><label class='ee-shut'>crs_transform: [30, 0, 607485, 0, -30, 1384515]<input type='checkbox' class='ee-toggle'></label><ul><li><span class='ee-k'>0:</span><span class='ee-v'>30</span></li><li><span class='ee-k'>1:</span><span class='ee-v'>0</span></li><li><span class='ee-k'>2:</span><span class='ee-v'>607485</span></li><li><span class='ee-k'>3:</span><span class='ee-v'>0</span></li><li><span class='ee-k'>4:</span><span class='ee-v'>-30</span></li><li><span class='ee-k'>5:</span><span class='ee-v'>1384515</span></li></ul></li><li><label class='ee-shut'>data_type: signed int16<input type='checkbox' class='ee-toggle'></label><ul><li><span class='ee-k'>type:</span><span class='ee-v'>PixelType</span></li><li><span class='ee-k'>max:</span><span class='ee-v'>32767</span></li><li><span class='ee-k'>min:</span><span class='ee-v'>-32768</span></li><li><span class='ee-k'>precision:</span><span class='ee-v'>int</span></li></ul></li><li><label class='ee-shut'>dimensions: [7981, 6901]<input type='checkbox' class='ee-toggle'></label><ul><li><span class='ee-k'>0:</span><span class='ee-v'>7981</span></li><li><span class='ee-k'>1:</span><span class='ee-v'>6901</span></li></ul></li></ul></li><li><label class='ee-shut'>14: \"VZA\", signed int16, EPSG:32648, 7981x6901 px<input type='checkbox' class='ee-toggle'></label><ul><li><span class='ee-k'>id:</span><span class='ee-v'>VZA</span></li><li><span class='ee-k'>crs:</span><span class='ee-v'>EPSG:32648</span></li><li><label class='ee-shut'>crs_transform: [30, 0, 607485, 0, -30, 1384515]<input type='checkbox' class='ee-toggle'></label><ul><li><span class='ee-k'>0:</span><span class='ee-v'>30</span></li><li><span class='ee-k'>1:</span><span class='ee-v'>0</span></li><li><span class='ee-k'>2:</span><span class='ee-v'>607485</span></li><li><span class='ee-k'>3:</span><span class='ee-v'>0</span></li><li><span class='ee-k'>4:</span><span class='ee-v'>-30</span></li><li><span class='ee-k'>5:</span><span class='ee-v'>1384515</span></li></ul></li><li><label class='ee-shut'>data_type: signed int16<input type='checkbox' class='ee-toggle'></label><ul><li><span class='ee-k'>type:</span><span class='ee-v'>PixelType</span></li><li><span class='ee-k'>max:</span><span class='ee-v'>32767</span></li><li><span class='ee-k'>min:</span><span class='ee-v'>-32768</span></li><li><span class='ee-k'>precision:</span><span class='ee-v'>int</span></li></ul></li><li><label class='ee-shut'>dimensions: [7981, 6901]<input type='checkbox' class='ee-toggle'></label><ul><li><span class='ee-k'>0:</span><span class='ee-v'>7981</span></li><li><span class='ee-k'>1:</span><span class='ee-v'>6901</span></li></ul></li></ul></li></ul></li><li><label class='ee-shut'>properties: Object (143 properties)<input type='checkbox' class='ee-toggle'></label><ul><li><span class='ee-k'>CLOUD_COVER:</span><span class='ee-v'>4</span></li><li><span class='ee-k'>CLOUD_COVER_LAND:</span><span class='ee-v'>4</span></li><li><span class='ee-k'>COLLECTION_CATEGORY:</span><span class='ee-v'>T1</span></li><li><span class='ee-k'>COLLECTION_NUMBER:</span><span class='ee-v'>2</span></li><li><span class='ee-k'>CORRECTION_BIAS_BAND_1:</span><span class='ee-v'>INTERNAL_CALIBRATION</span></li><li><span class='ee-k'>CORRECTION_BIAS_BAND_2:</span><span class='ee-v'>INTERNAL_CALIBRATION</span></li><li><span class='ee-k'>CORRECTION_BIAS_BAND_3:</span><span class='ee-v'>INTERNAL_CALIBRATION</span></li><li><span class='ee-k'>CORRECTION_BIAS_BAND_4:</span><span class='ee-v'>INTERNAL_CALIBRATION</span></li><li><span class='ee-k'>CORRECTION_BIAS_BAND_5:</span><span class='ee-v'>INTERNAL_CALIBRATION</span></li><li><span class='ee-k'>CORRECTION_BIAS_BAND_6_VCID_1:</span><span class='ee-v'>INTERNAL_CALIBRATION</span></li><li><span class='ee-k'>CORRECTION_BIAS_BAND_6_VCID_2:</span><span class='ee-v'>INTERNAL_CALIBRATION</span></li><li><span class='ee-k'>CORRECTION_BIAS_BAND_7:</span><span class='ee-v'>INTERNAL_CALIBRATION</span></li><li><span class='ee-k'>CORRECTION_BIAS_BAND_8:</span><span class='ee-v'>INTERNAL_CALIBRATION</span></li><li><span class='ee-k'>CORRECTION_GAIN_BAND_1:</span><span class='ee-v'>CPF</span></li><li><span class='ee-k'>CORRECTION_GAIN_BAND_2:</span><span class='ee-v'>CPF</span></li><li><span class='ee-k'>CORRECTION_GAIN_BAND_3:</span><span class='ee-v'>CPF</span></li><li><span class='ee-k'>CORRECTION_GAIN_BAND_4:</span><span class='ee-v'>CPF</span></li><li><span class='ee-k'>CORRECTION_GAIN_BAND_5:</span><span class='ee-v'>CPF</span></li><li><span class='ee-k'>CORRECTION_GAIN_BAND_6_VCID_1:</span><span class='ee-v'>CPF</span></li><li><span class='ee-k'>CORRECTION_GAIN_BAND_6_VCID_2:</span><span class='ee-v'>CPF</span></li><li><span class='ee-k'>CORRECTION_GAIN_BAND_7:</span><span class='ee-v'>CPF</span></li><li><span class='ee-k'>CORRECTION_GAIN_BAND_8:</span><span class='ee-v'>CPF</span></li><li><span class='ee-k'>DATA_SOURCE_ELEVATION:</span><span class='ee-v'>GLS2000</span></li><li><span class='ee-k'>DATE_ACQUIRED:</span><span class='ee-v'>2022-12-12</span></li><li><span class='ee-k'>DATE_PRODUCT_GENERATED:</span><span class='ee-v'>1673005868000</span></li><li><span class='ee-k'>DATUM:</span><span class='ee-v'>WGS84</span></li><li><span class='ee-k'>EARTH_SUN_DISTANCE:</span><span class='ee-v'>0.9846264</span></li><li><span class='ee-k'>ELLIPSOID:</span><span class='ee-v'>WGS84</span></li><li><span class='ee-k'>EPHEMERIS_TYPE:</span><span class='ee-v'>DEFINITIVE</span></li><li><span class='ee-k'>GAIN_BAND_1:</span><span class='ee-v'>H</span></li><li><span class='ee-k'>GAIN_BAND_2:</span><span class='ee-v'>H</span></li><li><span class='ee-k'>GAIN_BAND_3:</span><span class='ee-v'>H</span></li><li><span class='ee-k'>GAIN_BAND_4:</span><span class='ee-v'>L</span></li><li><span class='ee-k'>GAIN_BAND_5:</span><span class='ee-v'>H</span></li><li><span class='ee-k'>GAIN_BAND_6_VCID_1:</span><span class='ee-v'>L</span></li><li><span class='ee-k'>GAIN_BAND_6_VCID_2:</span><span class='ee-v'>H</span></li><li><span class='ee-k'>GAIN_BAND_7:</span><span class='ee-v'>H</span></li><li><span class='ee-k'>GAIN_BAND_8:</span><span class='ee-v'>L</span></li><li><span class='ee-k'>GAIN_CHANGE_BAND_1:</span><span class='ee-v'>HH</span></li><li><span class='ee-k'>GAIN_CHANGE_BAND_2:</span><span class='ee-v'>HH</span></li><li><span class='ee-k'>GAIN_CHANGE_BAND_3:</span><span class='ee-v'>HH</span></li><li><span class='ee-k'>GAIN_CHANGE_BAND_4:</span><span class='ee-v'>LL</span></li><li><span class='ee-k'>GAIN_CHANGE_BAND_5:</span><span class='ee-v'>HH</span></li><li><span class='ee-k'>GAIN_CHANGE_BAND_6_VCID_1:</span><span class='ee-v'>LL</span></li><li><span class='ee-k'>GAIN_CHANGE_BAND_6_VCID_2:</span><span class='ee-v'>HH</span></li><li><span class='ee-k'>GAIN_CHANGE_BAND_7:</span><span class='ee-v'>HH</span></li><li><span class='ee-k'>GAIN_CHANGE_BAND_8:</span><span class='ee-v'>LL</span></li><li><span class='ee-k'>GAIN_CHANGE_SCAN_BAND_1:</span><span class='ee-v'>0</span></li><li><span class='ee-k'>GAIN_CHANGE_SCAN_BAND_2:</span><span class='ee-v'>0</span></li><li><span class='ee-k'>GAIN_CHANGE_SCAN_BAND_3:</span><span class='ee-v'>0</span></li><li><span class='ee-k'>GAIN_CHANGE_SCAN_BAND_4:</span><span class='ee-v'>0</span></li><li><span class='ee-k'>GAIN_CHANGE_SCAN_BAND_5:</span><span class='ee-v'>0</span></li><li><span class='ee-k'>GAIN_CHANGE_SCAN_BAND_6_VCID_1:</span><span class='ee-v'>0</span></li><li><span class='ee-k'>GAIN_CHANGE_SCAN_BAND_6_VCID_2:</span><span class='ee-v'>0</span></li><li><span class='ee-k'>GAIN_CHANGE_SCAN_BAND_7:</span><span class='ee-v'>0</span></li><li><span class='ee-k'>GAIN_CHANGE_SCAN_BAND_8:</span><span class='ee-v'>0</span></li><li><span class='ee-k'>GEOMETRIC_RMSE_MODEL:</span><span class='ee-v'>6.086</span></li><li><span class='ee-k'>GEOMETRIC_RMSE_MODEL_X:</span><span class='ee-v'>3.797</span></li><li><span class='ee-k'>GEOMETRIC_RMSE_MODEL_Y:</span><span class='ee-v'>4.756</span></li><li><span class='ee-k'>GRID_CELL_SIZE_PANCHROMATIC:</span><span class='ee-v'>15</span></li><li><span class='ee-k'>GRID_CELL_SIZE_REFLECTIVE:</span><span class='ee-v'>30</span></li><li><span class='ee-k'>GRID_CELL_SIZE_THERMAL:</span><span class='ee-v'>30</span></li><li><span class='ee-k'>GROUND_CONTROL_POINTS_MODEL:</span><span class='ee-v'>250</span></li><li><span class='ee-k'>GROUND_CONTROL_POINTS_VERSION:</span><span class='ee-v'>5</span></li><li><span class='ee-k'>IMAGE_QUALITY:</span><span class='ee-v'>9</span></li><li><span class='ee-k'>K1_CONSTANT_BAND_6_VCID_1:</span><span class='ee-v'>666.09</span></li><li><span class='ee-k'>K1_CONSTANT_BAND_6_VCID_2:</span><span class='ee-v'>666.09</span></li><li><span class='ee-k'>K2_CONSTANT_BAND_6_VCID_1:</span><span class='ee-v'>1282.71</span></li><li><span class='ee-k'>K2_CONSTANT_BAND_6_VCID_2:</span><span class='ee-v'>1282.71</span></li><li><span class='ee-k'>LANDSAT_PRODUCT_ID:</span><span class='ee-v'>LE07_L1TP_124052_20221212_20230106_02_T1</span></li><li><span class='ee-k'>LANDSAT_SCENE_ID:</span><span class='ee-v'>LE71240522022346EDC00</span></li><li><span class='ee-k'>MAP_PROJECTION:</span><span class='ee-v'>UTM</span></li><li><span class='ee-k'>ORIENTATION:</span><span class='ee-v'>NORTH_UP</span></li><li><span class='ee-k'>PANCHROMATIC_LINES:</span><span class='ee-v'>13801</span></li><li><span class='ee-k'>PANCHROMATIC_SAMPLES:</span><span class='ee-v'>15961</span></li><li><span class='ee-k'>PROCESSING_LEVEL:</span><span class='ee-v'>L1TP</span></li><li><span class='ee-k'>PROCESSING_SOFTWARE_VERSION:</span><span class='ee-v'>LPGS_16.1.0</span></li><li><span class='ee-k'>RADIANCE_ADD_BAND_1:</span><span class='ee-v'>-6.97874</span></li><li><span class='ee-k'>RADIANCE_ADD_BAND_2:</span><span class='ee-v'>-7.19882</span></li><li><span class='ee-k'>RADIANCE_ADD_BAND_3:</span><span class='ee-v'>-5.62165</span></li><li><span class='ee-k'>RADIANCE_ADD_BAND_4:</span><span class='ee-v'>-6.06929</span></li><li><span class='ee-k'>RADIANCE_ADD_BAND_5:</span><span class='ee-v'>-1.12622</span></li><li><span class='ee-k'>RADIANCE_ADD_BAND_6_VCID_1:</span><span class='ee-v'>-0.06709</span></li><li><span class='ee-k'>RADIANCE_ADD_BAND_6_VCID_2:</span><span class='ee-v'>3.1628</span></li><li><span class='ee-k'>RADIANCE_ADD_BAND_7:</span><span class='ee-v'>-0.3939</span></li><li><span class='ee-k'>RADIANCE_ADD_BAND_8:</span><span class='ee-v'>-5.67559</span></li><li><span class='ee-k'>RADIANCE_MULT_BAND_1:</span><span class='ee-v'>0.77874</span></li><li><span class='ee-k'>RADIANCE_MULT_BAND_2:</span><span class='ee-v'>0.79882</span></li><li><span class='ee-k'>RADIANCE_MULT_BAND_3:</span><span class='ee-v'>0.62165</span></li><li><span class='ee-k'>RADIANCE_MULT_BAND_4:</span><span class='ee-v'>0.96929</span></li><li><span class='ee-k'>RADIANCE_MULT_BAND_5:</span><span class='ee-v'>0.12622</span></li><li><span class='ee-k'>RADIANCE_MULT_BAND_6_VCID_1:</span><span class='ee-v'>0.067087</span></li><li><span class='ee-k'>RADIANCE_MULT_BAND_6_VCID_2:</span><span class='ee-v'>0.037205</span></li><li><span class='ee-k'>RADIANCE_MULT_BAND_7:</span><span class='ee-v'>0.043898</span></li><li><span class='ee-k'>RADIANCE_MULT_BAND_8:</span><span class='ee-v'>0.97559</span></li><li><span class='ee-k'>REFLECTANCE_ADD_BAND_1:</span><span class='ee-v'>-0.01044</span></li><li><span class='ee-k'>REFLECTANCE_ADD_BAND_2:</span><span class='ee-v'>-0.011813</span></li><li><span class='ee-k'>REFLECTANCE_ADD_BAND_3:</span><span class='ee-v'>-0.011228</span></li><li><span class='ee-k'>REFLECTANCE_ADD_BAND_4:</span><span class='ee-v'>-0.01726</span></li><li><span class='ee-k'>REFLECTANCE_ADD_BAND_5:</span><span class='ee-v'>-0.015479</span></li><li><span class='ee-k'>REFLECTANCE_ADD_BAND_7:</span><span class='ee-v'>-0.014746</span></li><li><span class='ee-k'>REFLECTANCE_ADD_BAND_8:</span><span class='ee-v'>-0.013106</span></li><li><span class='ee-k'>REFLECTANCE_MULT_BAND_1:</span><span class='ee-v'>0.001165</span></li><li><span class='ee-k'>REFLECTANCE_MULT_BAND_2:</span><span class='ee-v'>0.0013109</span></li><li><span class='ee-k'>REFLECTANCE_MULT_BAND_3:</span><span class='ee-v'>0.0012416</span></li><li><span class='ee-k'>REFLECTANCE_MULT_BAND_4:</span><span class='ee-v'>0.0027565</span></li><li><span class='ee-k'>REFLECTANCE_MULT_BAND_5:</span><span class='ee-v'>0.0017348</span></li><li><span class='ee-k'>REFLECTANCE_MULT_BAND_7:</span><span class='ee-v'>0.0016433</span></li><li><span class='ee-k'>REFLECTANCE_MULT_BAND_8:</span><span class='ee-v'>0.0022528</span></li><li><span class='ee-k'>REFLECTIVE_LINES:</span><span class='ee-v'>6901</span></li><li><span class='ee-k'>REFLECTIVE_SAMPLES:</span><span class='ee-v'>7981</span></li><li><span class='ee-k'>REQUEST_ID:</span><span class='ee-v'>1623259_00081</span></li><li><span class='ee-k'>RESAMPLING_OPTION:</span><span class='ee-v'>CUBIC_CONVOLUTION</span></li><li><span class='ee-k'>SATURATION_BAND_1:</span><span class='ee-v'>Y</span></li><li><span class='ee-k'>SATURATION_BAND_2:</span><span class='ee-v'>Y</span></li><li><span class='ee-k'>SATURATION_BAND_3:</span><span class='ee-v'>Y</span></li><li><span class='ee-k'>SATURATION_BAND_4:</span><span class='ee-v'>Y</span></li><li><span class='ee-k'>SATURATION_BAND_5:</span><span class='ee-v'>Y</span></li><li><span class='ee-k'>SATURATION_BAND_6_VCID_1:</span><span class='ee-v'>N</span></li><li><span class='ee-k'>SATURATION_BAND_6_VCID_2:</span><span class='ee-v'>N</span></li><li><span class='ee-k'>SATURATION_BAND_7:</span><span class='ee-v'>Y</span></li><li><span class='ee-k'>SATURATION_BAND_8:</span><span class='ee-v'>N</span></li><li><span class='ee-k'>SCAN_GAP_INTERPOLATION:</span><span class='ee-v'>2</span></li><li><span class='ee-k'>SCENE_CENTER_TIME:</span><span class='ee-v'>01:24:06.8697758Z</span></li><li><span class='ee-k'>SENSOR_ANOMALIES:</span><span class='ee-v'>NONE</span></li><li><span class='ee-k'>SENSOR_ID:</span><span class='ee-v'>ETM</span></li><li><span class='ee-k'>SENSOR_MODE:</span><span class='ee-v'>BUMPER</span></li><li><span class='ee-k'>SENSOR_MODE_SLC:</span><span class='ee-v'>OFF</span></li><li><span class='ee-k'>SPACECRAFT_ID:</span><span class='ee-v'>LANDSAT_7</span></li><li><span class='ee-k'>STATION_ID:</span><span class='ee-v'>EDC</span></li><li><span class='ee-k'>SUN_AZIMUTH:</span><span class='ee-v'>125.34292859</span></li><li><span class='ee-k'>SUN_ELEVATION:</span><span class='ee-v'>29.85172769</span></li><li><span class='ee-k'>THERMAL_LINES:</span><span class='ee-v'>6901</span></li><li><span class='ee-k'>THERMAL_SAMPLES:</span><span class='ee-v'>7981</span></li><li><span class='ee-k'>UTM_ZONE:</span><span class='ee-v'>48</span></li><li><span class='ee-k'>WRS_PATH:</span><span class='ee-v'>124</span></li><li><span class='ee-k'>WRS_ROW:</span><span class='ee-v'>52</span></li><li><span class='ee-k'>WRS_TYPE:</span><span class='ee-v'>2</span></li><li><span class='ee-k'>system:asset_size:</span><span class='ee-v'>302415957</span></li><li><label class='ee-shut'>system:footprint: LinearRing (21 vertices)<input type='checkbox' class='ee-toggle'></label><ul><li><span class='ee-k'>type:</span><span class='ee-v'>LinearRing</span></li><li><label class='ee-shut'>coordinates: List (21 elements)<input type='checkbox' class='ee-toggle'></label><ul><li><label class='ee-shut'>0: [108.1543382177793, 12.086996433174344]<input type='checkbox' class='ee-toggle'></label><ul><li><span class='ee-k'>0:</span><span class='ee-v'>108.1543382177793</span></li><li><span class='ee-k'>1:</span><span class='ee-v'>12.086996433174344</span></li></ul></li><li><label class='ee-shut'>1: [108.18378078355141, 12.222393719449316]<input type='checkbox' class='ee-toggle'></label><ul><li><span class='ee-k'>0:</span><span class='ee-v'>108.18378078355141</span></li><li><span class='ee-k'>1:</span><span class='ee-v'>12.222393719449316</span></li></ul></li><li><label class='ee-shut'>2: [108.18784858786857, 12.242129947752469]<input type='checkbox' class='ee-toggle'></label><ul><li><span class='ee-k'>0:</span><span class='ee-v'>108.18784858786857</span></li><li><span class='ee-k'>1:</span><span class='ee-v'>12.242129947752469</span></li></ul></li><li><label class='ee-shut'>3: [108.18824492874595, 12.251381192240942]<input type='checkbox' class='ee-toggle'></label><ul><li><span class='ee-k'>0:</span><span class='ee-v'>108.18824492874595</span></li><li><span class='ee-k'>1:</span><span class='ee-v'>12.251381192240942</span></li></ul></li><li><label class='ee-shut'>4: [108.18258291132517, 12.259375257246012]<input type='checkbox' class='ee-toggle'></label><ul><li><span class='ee-k'>0:</span><span class='ee-v'>108.18258291132517</span></li><li><span class='ee-k'>1:</span><span class='ee-v'>12.259375257246012</span></li></ul></li><li><label class='ee-shut'>5: [108.17199363855543, 12.261696281585252]<input type='checkbox' class='ee-toggle'></label><ul><li><span class='ee-k'>0:</span><span class='ee-v'>108.17199363855543</span></li><li><span class='ee-k'>1:</span><span class='ee-v'>12.261696281585252</span></li></ul></li><li><label class='ee-shut'>6: [108.12209526925474, 12.269622683454168]<input type='checkbox' class='ee-toggle'></label><ul><li><span class='ee-k'>0:</span><span class='ee-v'>108.12209526925474</span></li><li><span class='ee-k'>1:</span><span class='ee-v'>12.269622683454168</span></li></ul></li><li><label class='ee-shut'>7: [106.32933683899259, 12.517897679821159]<input type='checkbox' class='ee-toggle'></label><ul><li><span class='ee-k'>0:</span><span class='ee-v'>106.32933683899259</span></li><li><span class='ee-k'>1:</span><span class='ee-v'>12.517897679821159</span></li></ul></li><li><label class='ee-shut'>8: [106.3267071388078, 12.517265496892257]<input type='checkbox' class='ee-toggle'></label><ul><li><span class='ee-k'>0:</span><span class='ee-v'>106.3267071388078</span></li><li><span class='ee-k'>1:</span><span class='ee-v'>12.517265496892257</span></li></ul></li><li><label class='ee-shut'>9: [106.30845510453678, 12.431834768877481]<input type='checkbox' class='ee-toggle'></label><ul><li><span class='ee-k'>0:</span><span class='ee-v'>106.30845510453678</span></li><li><span class='ee-k'>1:</span><span class='ee-v'>12.431834768877481</span></li></ul></li><li><label class='ee-shut'>10: [106.1489584683346, 11.674752719094645]<input type='checkbox' class='ee-toggle'></label><ul><li><span class='ee-k'>0:</span><span class='ee-v'>106.1489584683346</span></li><li><span class='ee-k'>1:</span><span class='ee-v'>11.674752719094645</span></li></ul></li><li><label class='ee-shut'>11: [105.98713991375011, 10.901283350059563]<input type='checkbox' class='ee-toggle'></label><ul><li><span class='ee-k'>0:</span><span class='ee-v'>105.98713991375011</span></li><li><span class='ee-k'>1:</span><span class='ee-v'>10.901283350059563</span></li></ul></li><li><label class='ee-shut'>12: [105.98803804190723, 10.896768502782056]<input type='checkbox' class='ee-toggle'></label><ul><li><span class='ee-k'>0:</span><span class='ee-v'>105.98803804190723</span></li><li><span class='ee-k'>1:</span><span class='ee-v'>10.896768502782056</span></li></ul></li><li><label class='ee-shut'>13: [107.76572049105192, 10.650554768519633]<input type='checkbox' class='ee-toggle'></label><ul><li><span class='ee-k'>0:</span><span class='ee-v'>107.76572049105192</span></li><li><span class='ee-k'>1:</span><span class='ee-v'>10.650554768519633</span></li></ul></li><li><label class='ee-shut'>14: [107.82195367623105, 10.642759783970385]<input type='checkbox' class='ee-toggle'></label><ul><li><span class='ee-k'>0:</span><span class='ee-v'>107.82195367623105</span></li><li><span class='ee-k'>1:</span><span class='ee-v'>10.642759783970385</span></li></ul></li><li><label class='ee-shut'>15: [107.8336016200247, 10.641744328257596]<input type='checkbox' class='ee-toggle'></label><ul><li><span class='ee-k'>0:</span><span class='ee-v'>107.8336016200247</span></li><li><span class='ee-k'>1:</span><span class='ee-v'>10.641744328257596</span></li></ul></li><li><label class='ee-shut'>16: [107.8426152805082, 10.64338550612692]<input type='checkbox' class='ee-toggle'></label><ul><li><span class='ee-k'>0:</span><span class='ee-v'>107.8426152805082</span></li><li><span class='ee-k'>1:</span><span class='ee-v'>10.64338550612692</span></li></ul></li><li><label class='ee-shut'>17: [107.8520789957928, 10.68674962555577]<input type='checkbox' class='ee-toggle'></label><ul><li><span class='ee-k'>0:</span><span class='ee-v'>107.8520789957928</span></li><li><span class='ee-k'>1:</span><span class='ee-v'>10.68674962555577</span></li></ul></li><li><label class='ee-shut'>18: [107.91479331110025, 10.977280004844042]<input type='checkbox' class='ee-toggle'></label><ul><li><span class='ee-k'>0:</span><span class='ee-v'>107.91479331110025</span></li><li><span class='ee-k'>1:</span><span class='ee-v'>10.977280004844042</span></li></ul></li><li><label class='ee-shut'>19: [108.04017784842945, 11.559911413868846]<input type='checkbox' class='ee-toggle'></label><ul><li><span class='ee-k'>0:</span><span class='ee-v'>108.04017784842945</span></li><li><span class='ee-k'>1:</span><span class='ee-v'>11.559911413868846</span></li></ul></li><li><label class='ee-shut'>20: [108.1543382177793, 12.086996433174344]<input type='checkbox' class='ee-toggle'></label><ul><li><span class='ee-k'>0:</span><span class='ee-v'>108.1543382177793</span></li><li><span class='ee-k'>1:</span><span class='ee-v'>12.086996433174344</span></li></ul></li></ul></li></ul></li><li><span class='ee-k'>system:index:</span><span class='ee-v'>LE07_124052_20221212</span></li><li><span class='ee-k'>system:time_end:</span><span class='ee-v'>1670808246869</span></li><li><span class='ee-k'>system:time_start:</span><span class='ee-v'>1670808246869</span></li></ul></li></ul></li></ul></div><script>function toggleHeader() {\n",
       "    const parent = this.parentElement;\n",
       "    parent.className = parent.className === \"ee-open\" ? \"ee-shut\" : \"ee-open\";\n",
       "}\n",
       "\n",
       "for (let c of document.getElementsByClassName(\"ee-toggle\")) {\n",
       "    c.onclick = toggleHeader;\n",
       "}</script></div>"
      ],
      "text/plain": [
       "<ee.image.Image at 0x24f1384ea50>"
      ]
     },
     "execution_count": 19,
     "metadata": {},
     "output_type": "execute_result"
    }
   ],
   "source": [
    "landsat_image"
   ]
  },
  {
   "cell_type": "code",
   "execution_count": 20,
   "metadata": {},
   "outputs": [
    {
     "data": {
      "text/html": [
       "\n",
       "            <style>\n",
       "                .geemap-dark {\n",
       "                    --jp-widgets-color: white;\n",
       "                    --jp-widgets-label-color: white;\n",
       "                    --jp-ui-font-color1: white;\n",
       "                    --jp-layout-color2: #454545;\n",
       "                    background-color: #383838;\n",
       "                }\n",
       "\n",
       "                .geemap-dark .jupyter-button {\n",
       "                    --jp-layout-color3: #383838;\n",
       "                }\n",
       "\n",
       "                .geemap-colab {\n",
       "                    background-color: var(--colab-primary-surface-color, white);\n",
       "                }\n",
       "\n",
       "                .geemap-colab .jupyter-button {\n",
       "                    --jp-layout-color3: var(--colab-primary-surface-color, white);\n",
       "                }\n",
       "            </style>\n",
       "            "
      ],
      "text/plain": [
       "<IPython.core.display.HTML object>"
      ]
     },
     "metadata": {},
     "output_type": "display_data"
    }
   ],
   "source": [
    "import folium\n",
    "\n",
    "# Lấy URL hình ảnh từ GEE\n",
    "url = landsat_image.getThumbURL({\n",
    "    'bands': ['B4', 'B3', 'B2'],  # Chọn các dải phổ tương ứng với Red, Green, Blue\n",
    "    'min': 0,\n",
    "    'max': 3000,\n",
    "    'dimensions': 512\n",
    "})\n",
    "\n",
    "# Tạo bản đồ folium\n",
    "map = folium.Map(location=[10.5, 105.5], zoom_start=10)\n",
    "folium.raster_layers.ImageOverlay(\n",
    "    image=url,\n",
    "    bounds=[[10.0, 105.0], [11.0, 106.0]],\n",
    "    opacity=0.7\n",
    ").add_to(map)\n",
    "\n",
    "# Hiển thị bản đồ\n",
    "map.save('landsat_image.html')"
   ]
  },
  {
   "cell_type": "code",
   "execution_count": 26,
   "metadata": {},
   "outputs": [
    {
     "data": {
      "text/html": [
       "\n",
       "            <style>\n",
       "                .geemap-dark {\n",
       "                    --jp-widgets-color: white;\n",
       "                    --jp-widgets-label-color: white;\n",
       "                    --jp-ui-font-color1: white;\n",
       "                    --jp-layout-color2: #454545;\n",
       "                    background-color: #383838;\n",
       "                }\n",
       "\n",
       "                .geemap-dark .jupyter-button {\n",
       "                    --jp-layout-color3: #383838;\n",
       "                }\n",
       "\n",
       "                .geemap-colab {\n",
       "                    background-color: var(--colab-primary-surface-color, white);\n",
       "                }\n",
       "\n",
       "                .geemap-colab .jupyter-button {\n",
       "                    --jp-layout-color3: var(--colab-primary-surface-color, white);\n",
       "                }\n",
       "            </style>\n",
       "            "
      ],
      "text/plain": [
       "<IPython.core.display.HTML object>"
      ]
     },
     "metadata": {},
     "output_type": "display_data"
    },
    {
     "ename": "EEException",
     "evalue": "A mapped function's arguments cannot be used in client-side operations",
     "output_type": "error",
     "traceback": [
      "\u001b[1;31m---------------------------------------------------------------------------\u001b[0m",
      "\u001b[1;31mEEException\u001b[0m                               Traceback (most recent call last)",
      "Cell \u001b[1;32mIn[26], line 68\u001b[0m\n\u001b[0;32m     65\u001b[0m endDay \u001b[38;5;241m=\u001b[39m \u001b[38;5;124m'\u001b[39m\u001b[38;5;124m09-30\u001b[39m\u001b[38;5;124m'\u001b[39m\n\u001b[0;32m     67\u001b[0m \u001b[38;5;66;03m# Run the function\u001b[39;00m\n\u001b[1;32m---> 68\u001b[0m sr_collection \u001b[38;5;241m=\u001b[39m buildSRCollection(startYear, endYear, startDay, endDay, aoi)\n",
      "Cell \u001b[1;32mIn[26], line 36\u001b[0m, in \u001b[0;36mbuildSRCollection\u001b[1;34m(startYear, endYear, startDay, endDay, aoi, maskThese)\u001b[0m\n\u001b[0;32m     33\u001b[0m     \u001b[38;5;28;01mreturn\u001b[39;00m image\u001b[38;5;241m.\u001b[39mupdateMask(combined_mask)\n\u001b[0;32m     35\u001b[0m \u001b[38;5;66;03m# Apply the masking function to the collection (server-side mapping)\u001b[39;00m\n\u001b[1;32m---> 36\u001b[0m masked_collection \u001b[38;5;241m=\u001b[39m collection\u001b[38;5;241m.\u001b[39mmap(maskLandsatSR)\n\u001b[0;32m     38\u001b[0m \u001b[38;5;66;03m# Function to calculate medoid composite for a specific year\u001b[39;00m\n\u001b[0;32m     39\u001b[0m \u001b[38;5;28;01mdef\u001b[39;00m \u001b[38;5;21mmedoid_composite\u001b[39m(year):\n",
      "File \u001b[1;32mc:\\ProgramData\\anaconda3\\Lib\\site-packages\\ee\\_utils.py:38\u001b[0m, in \u001b[0;36maccept_opt_prefix.<locals>.opt_fixed.<locals>.wrapper\u001b[1;34m(*args, **kwargs)\u001b[0m\n\u001b[0;32m     36\u001b[0m     \u001b[38;5;28;01mif\u001b[39;00m new_key \u001b[38;5;129;01mnot\u001b[39;00m \u001b[38;5;129;01min\u001b[39;00m kwargs:\n\u001b[0;32m     37\u001b[0m       kwargs[new_key] \u001b[38;5;241m=\u001b[39m old_key_val\n\u001b[1;32m---> 38\u001b[0m \u001b[38;5;28;01mreturn\u001b[39;00m func(\u001b[38;5;241m*\u001b[39margs, \u001b[38;5;241m*\u001b[39m\u001b[38;5;241m*\u001b[39mkwargs)\n",
      "File \u001b[1;32mc:\\ProgramData\\anaconda3\\Lib\\site-packages\\ee\\collection.py:668\u001b[0m, in \u001b[0;36mCollection.map\u001b[1;34m(self, algorithm, dropNulls)\u001b[0m\n\u001b[0;32m    665\u001b[0m element_type \u001b[38;5;241m=\u001b[39m \u001b[38;5;28mself\u001b[39m\u001b[38;5;241m.\u001b[39melementType()\n\u001b[0;32m    666\u001b[0m with_cast \u001b[38;5;241m=\u001b[39m \u001b[38;5;28;01mlambda\u001b[39;00m e: algorithm(element_type(e, \u001b[38;5;28;01mNone\u001b[39;00m))\n\u001b[0;32m    667\u001b[0m \u001b[38;5;28;01mreturn\u001b[39;00m \u001b[38;5;28mself\u001b[39m\u001b[38;5;241m.\u001b[39m_cast(\n\u001b[1;32m--> 668\u001b[0m     apifunction\u001b[38;5;241m.\u001b[39mApiFunction\u001b[38;5;241m.\u001b[39mcall_(\n\u001b[0;32m    669\u001b[0m         \u001b[38;5;124m'\u001b[39m\u001b[38;5;124mCollection.map\u001b[39m\u001b[38;5;124m'\u001b[39m, \u001b[38;5;28mself\u001b[39m, with_cast, dropNulls\n\u001b[0;32m    670\u001b[0m     )\n\u001b[0;32m    671\u001b[0m )\n",
      "File \u001b[1;32mc:\\ProgramData\\anaconda3\\Lib\\site-packages\\ee\\apifunction.py:84\u001b[0m, in \u001b[0;36mApiFunction.call_\u001b[1;34m(cls, name, *args, **kwargs)\u001b[0m\n\u001b[0;32m     71\u001b[0m \u001b[38;5;129m@classmethod\u001b[39m\n\u001b[0;32m     72\u001b[0m \u001b[38;5;28;01mdef\u001b[39;00m \u001b[38;5;21mcall_\u001b[39m(\u001b[38;5;28mcls\u001b[39m, name: \u001b[38;5;28mstr\u001b[39m, \u001b[38;5;241m*\u001b[39margs: Any, \u001b[38;5;241m*\u001b[39m\u001b[38;5;241m*\u001b[39mkwargs: Any) \u001b[38;5;241m-\u001b[39m\u001b[38;5;241m>\u001b[39m Any:\n\u001b[0;32m     73\u001b[0m \u001b[38;5;250m  \u001b[39m\u001b[38;5;124;03m\"\"\"Call a named API function with positional and keyword arguments.\u001b[39;00m\n\u001b[0;32m     74\u001b[0m \n\u001b[0;32m     75\u001b[0m \u001b[38;5;124;03m  Args:\u001b[39;00m\n\u001b[1;32m   (...)\u001b[0m\n\u001b[0;32m     82\u001b[0m \u001b[38;5;124;03m    a recognized return type, the returned value will be cast to that type.\u001b[39;00m\n\u001b[0;32m     83\u001b[0m \u001b[38;5;124;03m  \"\"\"\u001b[39;00m\n\u001b[1;32m---> 84\u001b[0m   \u001b[38;5;28;01mreturn\u001b[39;00m \u001b[38;5;28mcls\u001b[39m\u001b[38;5;241m.\u001b[39mlookup(name)\u001b[38;5;241m.\u001b[39mcall(\u001b[38;5;241m*\u001b[39margs, \u001b[38;5;241m*\u001b[39m\u001b[38;5;241m*\u001b[39mkwargs)\n",
      "File \u001b[1;32mc:\\ProgramData\\anaconda3\\Lib\\site-packages\\ee\\function.py:62\u001b[0m, in \u001b[0;36mFunction.call\u001b[1;34m(self, *args, **kwargs)\u001b[0m\n\u001b[0;32m     50\u001b[0m \u001b[38;5;28;01mdef\u001b[39;00m \u001b[38;5;21mcall\u001b[39m(\u001b[38;5;28mself\u001b[39m, \u001b[38;5;241m*\u001b[39margs, \u001b[38;5;241m*\u001b[39m\u001b[38;5;241m*\u001b[39mkwargs):\n\u001b[0;32m     51\u001b[0m \u001b[38;5;250m  \u001b[39m\u001b[38;5;124;03m\"\"\"Calls the function with the given positional and keyword arguments.\u001b[39;00m\n\u001b[0;32m     52\u001b[0m \n\u001b[0;32m     53\u001b[0m \u001b[38;5;124;03m  Args:\u001b[39;00m\n\u001b[1;32m   (...)\u001b[0m\n\u001b[0;32m     60\u001b[0m \u001b[38;5;124;03m    to that type.\u001b[39;00m\n\u001b[0;32m     61\u001b[0m \u001b[38;5;124;03m  \"\"\"\u001b[39;00m\n\u001b[1;32m---> 62\u001b[0m   \u001b[38;5;28;01mreturn\u001b[39;00m \u001b[38;5;28mself\u001b[39m\u001b[38;5;241m.\u001b[39mapply(\u001b[38;5;28mself\u001b[39m\u001b[38;5;241m.\u001b[39mnameArgs(args, kwargs))\n",
      "File \u001b[1;32mc:\\ProgramData\\anaconda3\\Lib\\site-packages\\ee\\function.py:75\u001b[0m, in \u001b[0;36mFunction.apply\u001b[1;34m(self, named_args)\u001b[0m\n\u001b[0;32m     64\u001b[0m \u001b[38;5;28;01mdef\u001b[39;00m \u001b[38;5;21mapply\u001b[39m(\u001b[38;5;28mself\u001b[39m, named_args):\n\u001b[0;32m     65\u001b[0m \u001b[38;5;250m  \u001b[39m\u001b[38;5;124;03m\"\"\"Calls the function with a dictionary of named arguments.\u001b[39;00m\n\u001b[0;32m     66\u001b[0m \n\u001b[0;32m     67\u001b[0m \u001b[38;5;124;03m  Args:\u001b[39;00m\n\u001b[1;32m   (...)\u001b[0m\n\u001b[0;32m     73\u001b[0m \u001b[38;5;124;03m    to that type.\u001b[39;00m\n\u001b[0;32m     74\u001b[0m \u001b[38;5;124;03m  \"\"\"\u001b[39;00m\n\u001b[1;32m---> 75\u001b[0m   result \u001b[38;5;241m=\u001b[39m computedobject\u001b[38;5;241m.\u001b[39mComputedObject(\u001b[38;5;28mself\u001b[39m, \u001b[38;5;28mself\u001b[39m\u001b[38;5;241m.\u001b[39mpromoteArgs(named_args))\n\u001b[0;32m     76\u001b[0m   \u001b[38;5;28;01mreturn\u001b[39;00m Function\u001b[38;5;241m.\u001b[39m_promoter(result, \u001b[38;5;28mself\u001b[39m\u001b[38;5;241m.\u001b[39mgetReturnType())\n",
      "File \u001b[1;32mc:\\ProgramData\\anaconda3\\Lib\\site-packages\\ee\\function.py:103\u001b[0m, in \u001b[0;36mFunction.promoteArgs\u001b[1;34m(self, args)\u001b[0m\n\u001b[0;32m    101\u001b[0m name \u001b[38;5;241m=\u001b[39m arg_spec[\u001b[38;5;124m'\u001b[39m\u001b[38;5;124mname\u001b[39m\u001b[38;5;124m'\u001b[39m]\n\u001b[0;32m    102\u001b[0m \u001b[38;5;28;01mif\u001b[39;00m name \u001b[38;5;129;01min\u001b[39;00m args:\n\u001b[1;32m--> 103\u001b[0m   promoted_args[name] \u001b[38;5;241m=\u001b[39m Function\u001b[38;5;241m.\u001b[39m_promoter(args[name], arg_spec[\u001b[38;5;124m'\u001b[39m\u001b[38;5;124mtype\u001b[39m\u001b[38;5;124m'\u001b[39m])\n\u001b[0;32m    104\u001b[0m \u001b[38;5;28;01melif\u001b[39;00m \u001b[38;5;129;01mnot\u001b[39;00m arg_spec\u001b[38;5;241m.\u001b[39mget(\u001b[38;5;124m'\u001b[39m\u001b[38;5;124moptional\u001b[39m\u001b[38;5;124m'\u001b[39m):\n\u001b[0;32m    105\u001b[0m   \u001b[38;5;28;01mraise\u001b[39;00m ee_exception\u001b[38;5;241m.\u001b[39mEEException(\n\u001b[0;32m    106\u001b[0m       \u001b[38;5;124m'\u001b[39m\u001b[38;5;124mRequired argument (\u001b[39m\u001b[38;5;132;01m%s\u001b[39;00m\u001b[38;5;124m) missing to function: \u001b[39m\u001b[38;5;132;01m%s\u001b[39;00m\u001b[38;5;124m'\u001b[39m\n\u001b[0;32m    107\u001b[0m       \u001b[38;5;241m%\u001b[39m (name, signature\u001b[38;5;241m.\u001b[39mget(\u001b[38;5;124m'\u001b[39m\u001b[38;5;124mname\u001b[39m\u001b[38;5;124m'\u001b[39m)))\n",
      "File \u001b[1;32mc:\\ProgramData\\anaconda3\\Lib\\site-packages\\ee\\__init__.py:336\u001b[0m, in \u001b[0;36m_Promote\u001b[1;34m(arg, a_class)\u001b[0m\n\u001b[0;32m    333\u001b[0m \u001b[38;5;28;01melif\u001b[39;00m \u001b[38;5;28mcallable\u001b[39m(arg):\n\u001b[0;32m    334\u001b[0m   \u001b[38;5;66;03m# A native function that needs to be wrapped.\u001b[39;00m\n\u001b[0;32m    335\u001b[0m   args_count \u001b[38;5;241m=\u001b[39m \u001b[38;5;28mlen\u001b[39m(inspect\u001b[38;5;241m.\u001b[39mgetfullargspec(arg)\u001b[38;5;241m.\u001b[39margs)\n\u001b[1;32m--> 336\u001b[0m   \u001b[38;5;28;01mreturn\u001b[39;00m CustomFunction\u001b[38;5;241m.\u001b[39mcreate(arg, \u001b[38;5;124m'\u001b[39m\u001b[38;5;124mObject\u001b[39m\u001b[38;5;124m'\u001b[39m, [\u001b[38;5;124m'\u001b[39m\u001b[38;5;124mObject\u001b[39m\u001b[38;5;124m'\u001b[39m] \u001b[38;5;241m*\u001b[39m args_count)\n\u001b[0;32m    337\u001b[0m \u001b[38;5;28;01melif\u001b[39;00m \u001b[38;5;28misinstance\u001b[39m(arg, Encodable):\n\u001b[0;32m    338\u001b[0m   \u001b[38;5;66;03m# An ee.Function or a computed function like the return value of\u001b[39;00m\n\u001b[0;32m    339\u001b[0m   \u001b[38;5;66;03m# Image.parseExpression().\u001b[39;00m\n\u001b[0;32m    340\u001b[0m   \u001b[38;5;28;01mreturn\u001b[39;00m arg\n",
      "File \u001b[1;32mc:\\ProgramData\\anaconda3\\Lib\\site-packages\\ee\\customfunction.py:126\u001b[0m, in \u001b[0;36mCustomFunction.create\u001b[1;34m(func, return_type, arg_types)\u001b[0m\n\u001b[0;32m    120\u001b[0m args \u001b[38;5;241m=\u001b[39m [{\u001b[38;5;124m'\u001b[39m\u001b[38;5;124mname\u001b[39m\u001b[38;5;124m'\u001b[39m: \u001b[38;5;28;01mNone\u001b[39;00m, \u001b[38;5;124m'\u001b[39m\u001b[38;5;124mtype\u001b[39m\u001b[38;5;124m'\u001b[39m: StringifyType(i)} \u001b[38;5;28;01mfor\u001b[39;00m i \u001b[38;5;129;01min\u001b[39;00m arg_types]\n\u001b[0;32m    121\u001b[0m signature \u001b[38;5;241m=\u001b[39m {\n\u001b[0;32m    122\u001b[0m     \u001b[38;5;124m'\u001b[39m\u001b[38;5;124mname\u001b[39m\u001b[38;5;124m'\u001b[39m: \u001b[38;5;124m'\u001b[39m\u001b[38;5;124m'\u001b[39m,\n\u001b[0;32m    123\u001b[0m     \u001b[38;5;124m'\u001b[39m\u001b[38;5;124mreturns\u001b[39m\u001b[38;5;124m'\u001b[39m: StringifyType(return_type),\n\u001b[0;32m    124\u001b[0m     \u001b[38;5;124m'\u001b[39m\u001b[38;5;124margs\u001b[39m\u001b[38;5;124m'\u001b[39m: args\n\u001b[0;32m    125\u001b[0m }\n\u001b[1;32m--> 126\u001b[0m \u001b[38;5;28;01mreturn\u001b[39;00m CustomFunction(signature, func)\n",
      "File \u001b[1;32mc:\\ProgramData\\anaconda3\\Lib\\site-packages\\ee\\customfunction.py:40\u001b[0m, in \u001b[0;36mCustomFunction.__init__\u001b[1;34m(self, signature, body)\u001b[0m\n\u001b[0;32m     26\u001b[0m \u001b[38;5;250m\u001b[39m\u001b[38;5;124;03m\"\"\"Creates a function defined by a given expression with unbound variables.\u001b[39;00m\n\u001b[0;32m     27\u001b[0m \n\u001b[0;32m     28\u001b[0m \u001b[38;5;124;03mThe expression is created by evaluating the given function\u001b[39;00m\n\u001b[1;32m   (...)\u001b[0m\n\u001b[0;32m     35\u001b[0m \u001b[38;5;124;03m  body: The Python function to evaluate.\u001b[39;00m\n\u001b[0;32m     36\u001b[0m \u001b[38;5;124;03m\"\"\"\u001b[39;00m\n\u001b[0;32m     37\u001b[0m variables \u001b[38;5;241m=\u001b[39m [CustomFunction\u001b[38;5;241m.\u001b[39mvariable(arg[\u001b[38;5;124m'\u001b[39m\u001b[38;5;124mtype\u001b[39m\u001b[38;5;124m'\u001b[39m], arg[\u001b[38;5;124m'\u001b[39m\u001b[38;5;124mname\u001b[39m\u001b[38;5;124m'\u001b[39m])\n\u001b[0;32m     38\u001b[0m              \u001b[38;5;28;01mfor\u001b[39;00m arg \u001b[38;5;129;01min\u001b[39;00m signature[\u001b[38;5;124m'\u001b[39m\u001b[38;5;124margs\u001b[39m\u001b[38;5;124m'\u001b[39m]]\n\u001b[1;32m---> 40\u001b[0m \u001b[38;5;28;01mif\u001b[39;00m body(\u001b[38;5;241m*\u001b[39mvariables) \u001b[38;5;129;01mis\u001b[39;00m \u001b[38;5;28;01mNone\u001b[39;00m:\n\u001b[0;32m     41\u001b[0m   \u001b[38;5;28;01mraise\u001b[39;00m ee_exception\u001b[38;5;241m.\u001b[39mEEException(\u001b[38;5;124m'\u001b[39m\u001b[38;5;124mUser-defined methods must return a value\u001b[39m\u001b[38;5;124m'\u001b[39m)\n\u001b[0;32m     43\u001b[0m \u001b[38;5;66;03m# The signature of the function.\u001b[39;00m\n",
      "File \u001b[1;32mc:\\ProgramData\\anaconda3\\Lib\\site-packages\\ee\\collection.py:666\u001b[0m, in \u001b[0;36mCollection.map.<locals>.<lambda>\u001b[1;34m(e)\u001b[0m\n\u001b[0;32m    648\u001b[0m \u001b[38;5;250m\u001b[39m\u001b[38;5;124;03m\"\"\"Maps an algorithm over a collection.\u001b[39;00m\n\u001b[0;32m    649\u001b[0m \n\u001b[0;32m    650\u001b[0m \u001b[38;5;124;03mArgs:\u001b[39;00m\n\u001b[1;32m   (...)\u001b[0m\n\u001b[0;32m    663\u001b[0m \u001b[38;5;124;03m  ee_exception.EEException: if algorithm is not a function.\u001b[39;00m\n\u001b[0;32m    664\u001b[0m \u001b[38;5;124;03m\"\"\"\u001b[39;00m\n\u001b[0;32m    665\u001b[0m element_type \u001b[38;5;241m=\u001b[39m \u001b[38;5;28mself\u001b[39m\u001b[38;5;241m.\u001b[39melementType()\n\u001b[1;32m--> 666\u001b[0m with_cast \u001b[38;5;241m=\u001b[39m \u001b[38;5;28;01mlambda\u001b[39;00m e: algorithm(element_type(e, \u001b[38;5;28;01mNone\u001b[39;00m))\n\u001b[0;32m    667\u001b[0m \u001b[38;5;28;01mreturn\u001b[39;00m \u001b[38;5;28mself\u001b[39m\u001b[38;5;241m.\u001b[39m_cast(\n\u001b[0;32m    668\u001b[0m     apifunction\u001b[38;5;241m.\u001b[39mApiFunction\u001b[38;5;241m.\u001b[39mcall_(\n\u001b[0;32m    669\u001b[0m         \u001b[38;5;124m'\u001b[39m\u001b[38;5;124mCollection.map\u001b[39m\u001b[38;5;124m'\u001b[39m, \u001b[38;5;28mself\u001b[39m, with_cast, dropNulls\n\u001b[0;32m    670\u001b[0m     )\n\u001b[0;32m    671\u001b[0m )\n",
      "Cell \u001b[1;32mIn[26], line 18\u001b[0m, in \u001b[0;36mbuildSRCollection.<locals>.maskLandsatSR\u001b[1;34m(image)\u001b[0m\n\u001b[0;32m     16\u001b[0m \u001b[38;5;28;01mdef\u001b[39;00m \u001b[38;5;21mmaskLandsatSR\u001b[39m(image):\n\u001b[0;32m     17\u001b[0m     qa \u001b[38;5;241m=\u001b[39m image\u001b[38;5;241m.\u001b[39mselect(\u001b[38;5;124m'\u001b[39m\u001b[38;5;124mQA_PIXEL\u001b[39m\u001b[38;5;124m'\u001b[39m)\n\u001b[1;32m---> 18\u001b[0m     \u001b[38;5;28mprint\u001b[39m(qa)\n\u001b[0;32m     19\u001b[0m     \u001b[38;5;66;03m# Cloud mask\u001b[39;00m\n\u001b[0;32m     20\u001b[0m     cloud_bit \u001b[38;5;241m=\u001b[39m \u001b[38;5;241m1\u001b[39m \u001b[38;5;241m<<\u001b[39m \u001b[38;5;241m3\u001b[39m\n",
      "File \u001b[1;32mc:\\ProgramData\\anaconda3\\Lib\\site-packages\\ee\\computedobject.py:187\u001b[0m, in \u001b[0;36mComputedObject.__str__\u001b[1;34m(self)\u001b[0m\n\u001b[0;32m    185\u001b[0m \u001b[38;5;28;01mdef\u001b[39;00m \u001b[38;5;21m__str__\u001b[39m(\u001b[38;5;28mself\u001b[39m) \u001b[38;5;241m-\u001b[39m\u001b[38;5;241m>\u001b[39m \u001b[38;5;28mstr\u001b[39m:\n\u001b[0;32m    186\u001b[0m \u001b[38;5;250m  \u001b[39m\u001b[38;5;124;03m\"\"\"Writes out the object in a human-readable form.\"\"\"\u001b[39;00m\n\u001b[1;32m--> 187\u001b[0m   \u001b[38;5;28;01mreturn\u001b[39;00m \u001b[38;5;124m'\u001b[39m\u001b[38;5;124mee.\u001b[39m\u001b[38;5;132;01m%s\u001b[39;00m\u001b[38;5;124m(\u001b[39m\u001b[38;5;132;01m%s\u001b[39;00m\u001b[38;5;124m)\u001b[39m\u001b[38;5;124m'\u001b[39m \u001b[38;5;241m%\u001b[39m (\u001b[38;5;28mself\u001b[39m\u001b[38;5;241m.\u001b[39mname(), serializer\u001b[38;5;241m.\u001b[39mtoReadableJSON(\u001b[38;5;28mself\u001b[39m))\n",
      "File \u001b[1;32mc:\\ProgramData\\anaconda3\\Lib\\site-packages\\ee\\serializer.py:326\u001b[0m, in \u001b[0;36mtoReadableJSON\u001b[1;34m(obj, for_cloud_api)\u001b[0m\n\u001b[0;32m    324\u001b[0m \u001b[38;5;28;01mdef\u001b[39;00m \u001b[38;5;21mtoReadableJSON\u001b[39m(obj: Any, for_cloud_api: \u001b[38;5;28mbool\u001b[39m \u001b[38;5;241m=\u001b[39m \u001b[38;5;28;01mTrue\u001b[39;00m) \u001b[38;5;241m-\u001b[39m\u001b[38;5;241m>\u001b[39m Any:\n\u001b[0;32m    325\u001b[0m \u001b[38;5;250m  \u001b[39m\u001b[38;5;124;03m\"\"\"Convert an object to readable JSON.\"\"\"\u001b[39;00m\n\u001b[1;32m--> 326\u001b[0m   \u001b[38;5;28;01mreturn\u001b[39;00m toJSON(obj, \u001b[38;5;28;01mTrue\u001b[39;00m, for_cloud_api\u001b[38;5;241m=\u001b[39mfor_cloud_api)\n",
      "File \u001b[1;32mc:\\ProgramData\\anaconda3\\Lib\\site-packages\\ee\\_utils.py:38\u001b[0m, in \u001b[0;36maccept_opt_prefix.<locals>.opt_fixed.<locals>.wrapper\u001b[1;34m(*args, **kwargs)\u001b[0m\n\u001b[0;32m     36\u001b[0m     \u001b[38;5;28;01mif\u001b[39;00m new_key \u001b[38;5;129;01mnot\u001b[39;00m \u001b[38;5;129;01min\u001b[39;00m kwargs:\n\u001b[0;32m     37\u001b[0m       kwargs[new_key] \u001b[38;5;241m=\u001b[39m old_key_val\n\u001b[1;32m---> 38\u001b[0m \u001b[38;5;28;01mreturn\u001b[39;00m func(\u001b[38;5;241m*\u001b[39margs, \u001b[38;5;241m*\u001b[39m\u001b[38;5;241m*\u001b[39mkwargs)\n",
      "File \u001b[1;32mc:\\ProgramData\\anaconda3\\Lib\\site-packages\\ee\\serializer.py:319\u001b[0m, in \u001b[0;36mtoJSON\u001b[1;34m(obj, pretty, for_cloud_api)\u001b[0m\n\u001b[0;32m    307\u001b[0m \u001b[38;5;250m\u001b[39m\u001b[38;5;124;03m\"\"\"Serialize an object to a JSON string appropriate for API calls.\u001b[39;00m\n\u001b[0;32m    308\u001b[0m \n\u001b[0;32m    309\u001b[0m \u001b[38;5;124;03mArgs:\u001b[39;00m\n\u001b[1;32m   (...)\u001b[0m\n\u001b[0;32m    316\u001b[0m \u001b[38;5;124;03m  A JSON string representing the input.\u001b[39;00m\n\u001b[0;32m    317\u001b[0m \u001b[38;5;124;03m\"\"\"\u001b[39;00m\n\u001b[0;32m    318\u001b[0m serializer \u001b[38;5;241m=\u001b[39m Serializer(\u001b[38;5;129;01mnot\u001b[39;00m pretty, for_cloud_api\u001b[38;5;241m=\u001b[39mfor_cloud_api)\n\u001b[1;32m--> 319\u001b[0m encoded \u001b[38;5;241m=\u001b[39m serializer\u001b[38;5;241m.\u001b[39m_encode(obj)  \u001b[38;5;66;03m# pylint: disable=protected-access\u001b[39;00m\n\u001b[0;32m    320\u001b[0m \u001b[38;5;28;01mreturn\u001b[39;00m json\u001b[38;5;241m.\u001b[39mdumps(encoded, indent\u001b[38;5;241m=\u001b[39m\u001b[38;5;241m2\u001b[39m \u001b[38;5;28;01mif\u001b[39;00m pretty \u001b[38;5;28;01melse\u001b[39;00m \u001b[38;5;28;01mNone\u001b[39;00m)\n",
      "File \u001b[1;32mc:\\ProgramData\\anaconda3\\Lib\\site-packages\\ee\\serializer.py:79\u001b[0m, in \u001b[0;36mSerializer._encode\u001b[1;34m(self, obj)\u001b[0m\n\u001b[0;32m     70\u001b[0m \u001b[38;5;250m\u001b[39m\u001b[38;5;124;03m\"\"\"Encodes a top level object to be executed server-side.\u001b[39;00m\n\u001b[0;32m     71\u001b[0m \n\u001b[0;32m     72\u001b[0m \u001b[38;5;124;03mArgs:\u001b[39;00m\n\u001b[1;32m   (...)\u001b[0m\n\u001b[0;32m     76\u001b[0m \u001b[38;5;124;03m  An encoded object ready for JSON serialization.\u001b[39;00m\n\u001b[0;32m     77\u001b[0m \u001b[38;5;124;03m\"\"\"\u001b[39;00m\n\u001b[0;32m     78\u001b[0m \u001b[38;5;28;01mif\u001b[39;00m \u001b[38;5;28mself\u001b[39m\u001b[38;5;241m.\u001b[39m_for_cloud_api:\n\u001b[1;32m---> 79\u001b[0m   \u001b[38;5;28;01mreturn\u001b[39;00m \u001b[38;5;28mself\u001b[39m\u001b[38;5;241m.\u001b[39m_encode_for_cloud_api(obj)\n\u001b[0;32m     80\u001b[0m value \u001b[38;5;241m=\u001b[39m \u001b[38;5;28mself\u001b[39m\u001b[38;5;241m.\u001b[39m_encode_value(obj)\n\u001b[0;32m     81\u001b[0m \u001b[38;5;28;01mif\u001b[39;00m \u001b[38;5;28mself\u001b[39m\u001b[38;5;241m.\u001b[39m_is_compound:\n",
      "File \u001b[1;32mc:\\ProgramData\\anaconda3\\Lib\\site-packages\\ee\\serializer.py:97\u001b[0m, in \u001b[0;36mSerializer._encode_for_cloud_api\u001b[1;34m(self, obj)\u001b[0m\n\u001b[0;32m     95\u001b[0m \u001b[38;5;28;01mdef\u001b[39;00m \u001b[38;5;21m_encode_for_cloud_api\u001b[39m(\u001b[38;5;28mself\u001b[39m, obj: Any) \u001b[38;5;241m-\u001b[39m\u001b[38;5;241m>\u001b[39m Any:\n\u001b[0;32m     96\u001b[0m \u001b[38;5;250m  \u001b[39m\u001b[38;5;124;03m\"\"\"Encodes an object as an Expression or quasi-Expression.\"\"\"\u001b[39;00m\n\u001b[1;32m---> 97\u001b[0m   value \u001b[38;5;241m=\u001b[39m \u001b[38;5;28mself\u001b[39m\u001b[38;5;241m.\u001b[39m_encode_cloud_object(obj)\n\u001b[0;32m     98\u001b[0m   \u001b[38;5;28;01mif\u001b[39;00m \u001b[38;5;28mself\u001b[39m\u001b[38;5;241m.\u001b[39m_is_compound:\n\u001b[0;32m     99\u001b[0m     \u001b[38;5;66;03m# Wrap the scopes and final value into an Expression.\u001b[39;00m\n\u001b[0;32m    100\u001b[0m     value \u001b[38;5;241m=\u001b[39m _ExpressionOptimizer(value, \u001b[38;5;28mself\u001b[39m\u001b[38;5;241m.\u001b[39m_scope)\u001b[38;5;241m.\u001b[39moptimize()\n",
      "File \u001b[1;32mc:\\ProgramData\\anaconda3\\Lib\\site-packages\\ee\\serializer.py:219\u001b[0m, in \u001b[0;36mSerializer._encode_cloud_object\u001b[1;34m(self, obj)\u001b[0m\n\u001b[0;32m    207\u001b[0m   result \u001b[38;5;241m=\u001b[39m {\n\u001b[0;32m    208\u001b[0m       \u001b[38;5;124m'\u001b[39m\u001b[38;5;124mfunctionInvocationValue\u001b[39m\u001b[38;5;124m'\u001b[39m: {\n\u001b[0;32m    209\u001b[0m           \u001b[38;5;124m'\u001b[39m\u001b[38;5;124mfunctionName\u001b[39m\u001b[38;5;124m'\u001b[39m: \u001b[38;5;124m'\u001b[39m\u001b[38;5;124mDate\u001b[39m\u001b[38;5;124m'\u001b[39m,\n\u001b[1;32m   (...)\u001b[0m\n\u001b[0;32m    215\u001b[0m       }\n\u001b[0;32m    216\u001b[0m   }\n\u001b[0;32m    217\u001b[0m \u001b[38;5;28;01melif\u001b[39;00m \u001b[38;5;28misinstance\u001b[39m(obj, encodable\u001b[38;5;241m.\u001b[39mEncodable):\n\u001b[0;32m    218\u001b[0m   \u001b[38;5;66;03m# Some objects know how to encode themselves.\u001b[39;00m\n\u001b[1;32m--> 219\u001b[0m   result \u001b[38;5;241m=\u001b[39m obj\u001b[38;5;241m.\u001b[39mencode_cloud_value(\u001b[38;5;28mself\u001b[39m\u001b[38;5;241m.\u001b[39m_encode_cloud_object)\n\u001b[0;32m    220\u001b[0m \u001b[38;5;28;01melif\u001b[39;00m \u001b[38;5;28misinstance\u001b[39m(obj, (\u001b[38;5;28mlist\u001b[39m, \u001b[38;5;28mtuple\u001b[39m)):\n\u001b[0;32m    221\u001b[0m   \u001b[38;5;66;03m# Lists are encoded recursively.\u001b[39;00m\n\u001b[0;32m    222\u001b[0m   \u001b[38;5;28;01mif\u001b[39;00m \u001b[38;5;28mself\u001b[39m\u001b[38;5;241m.\u001b[39m_is_compound:\n",
      "File \u001b[1;32mc:\\ProgramData\\anaconda3\\Lib\\site-packages\\ee\\computedobject.py:167\u001b[0m, in \u001b[0;36mComputedObject.encode_cloud_value\u001b[1;34m(self, encoder)\u001b[0m\n\u001b[0;32m    165\u001b[0m   value \u001b[38;5;241m=\u001b[39m \u001b[38;5;28mself\u001b[39m\u001b[38;5;241m.\u001b[39margs[name]\n\u001b[0;32m    166\u001b[0m   \u001b[38;5;28;01mif\u001b[39;00m value \u001b[38;5;129;01mis\u001b[39;00m \u001b[38;5;129;01mnot\u001b[39;00m \u001b[38;5;28;01mNone\u001b[39;00m:\n\u001b[1;32m--> 167\u001b[0m     encoded_args[name] \u001b[38;5;241m=\u001b[39m {\u001b[38;5;124m'\u001b[39m\u001b[38;5;124mvalueReference\u001b[39m\u001b[38;5;124m'\u001b[39m: encoder(value)}\n\u001b[0;32m    168\u001b[0m invocation[\u001b[38;5;124m'\u001b[39m\u001b[38;5;124marguments\u001b[39m\u001b[38;5;124m'\u001b[39m] \u001b[38;5;241m=\u001b[39m encoded_args\n\u001b[0;32m    169\u001b[0m \u001b[38;5;28;01mreturn\u001b[39;00m {\u001b[38;5;124m'\u001b[39m\u001b[38;5;124mfunctionInvocationValue\u001b[39m\u001b[38;5;124m'\u001b[39m: invocation}\n",
      "File \u001b[1;32mc:\\ProgramData\\anaconda3\\Lib\\site-packages\\ee\\serializer.py:219\u001b[0m, in \u001b[0;36mSerializer._encode_cloud_object\u001b[1;34m(self, obj)\u001b[0m\n\u001b[0;32m    207\u001b[0m   result \u001b[38;5;241m=\u001b[39m {\n\u001b[0;32m    208\u001b[0m       \u001b[38;5;124m'\u001b[39m\u001b[38;5;124mfunctionInvocationValue\u001b[39m\u001b[38;5;124m'\u001b[39m: {\n\u001b[0;32m    209\u001b[0m           \u001b[38;5;124m'\u001b[39m\u001b[38;5;124mfunctionName\u001b[39m\u001b[38;5;124m'\u001b[39m: \u001b[38;5;124m'\u001b[39m\u001b[38;5;124mDate\u001b[39m\u001b[38;5;124m'\u001b[39m,\n\u001b[1;32m   (...)\u001b[0m\n\u001b[0;32m    215\u001b[0m       }\n\u001b[0;32m    216\u001b[0m   }\n\u001b[0;32m    217\u001b[0m \u001b[38;5;28;01melif\u001b[39;00m \u001b[38;5;28misinstance\u001b[39m(obj, encodable\u001b[38;5;241m.\u001b[39mEncodable):\n\u001b[0;32m    218\u001b[0m   \u001b[38;5;66;03m# Some objects know how to encode themselves.\u001b[39;00m\n\u001b[1;32m--> 219\u001b[0m   result \u001b[38;5;241m=\u001b[39m obj\u001b[38;5;241m.\u001b[39mencode_cloud_value(\u001b[38;5;28mself\u001b[39m\u001b[38;5;241m.\u001b[39m_encode_cloud_object)\n\u001b[0;32m    220\u001b[0m \u001b[38;5;28;01melif\u001b[39;00m \u001b[38;5;28misinstance\u001b[39m(obj, (\u001b[38;5;28mlist\u001b[39m, \u001b[38;5;28mtuple\u001b[39m)):\n\u001b[0;32m    221\u001b[0m   \u001b[38;5;66;03m# Lists are encoded recursively.\u001b[39;00m\n\u001b[0;32m    222\u001b[0m   \u001b[38;5;28;01mif\u001b[39;00m \u001b[38;5;28mself\u001b[39m\u001b[38;5;241m.\u001b[39m_is_compound:\n",
      "File \u001b[1;32mc:\\ProgramData\\anaconda3\\Lib\\site-packages\\ee\\computedobject.py:150\u001b[0m, in \u001b[0;36mComputedObject.encode_cloud_value\u001b[1;34m(self, encoder)\u001b[0m\n\u001b[0;32m    143\u001b[0m     ref \u001b[38;5;241m=\u001b[39m encoder\u001b[38;5;241m.\u001b[39m\u001b[38;5;18m__self__\u001b[39m\u001b[38;5;241m.\u001b[39munbound_name\n\u001b[0;32m    144\u001b[0m   \u001b[38;5;28;01mif\u001b[39;00m ref \u001b[38;5;129;01mis\u001b[39;00m \u001b[38;5;28;01mNone\u001b[39;00m:\n\u001b[0;32m    145\u001b[0m     \u001b[38;5;66;03m# We are trying to call getInfo() or make some other server call inside\u001b[39;00m\n\u001b[0;32m    146\u001b[0m     \u001b[38;5;66;03m# a function passed to collection.map() or .iterate(), and the call uses\u001b[39;00m\n\u001b[0;32m    147\u001b[0m     \u001b[38;5;66;03m# one of the function arguments. The argument will be unbound outside of\u001b[39;00m\n\u001b[0;32m    148\u001b[0m     \u001b[38;5;66;03m# the map operation and cannot be evaluated. See the Count Functions\u001b[39;00m\n\u001b[0;32m    149\u001b[0m     \u001b[38;5;66;03m# case in customfunction.py for details on the unbound_name mechanism.\u001b[39;00m\n\u001b[1;32m--> 150\u001b[0m     \u001b[38;5;28;01mraise\u001b[39;00m ee_exception\u001b[38;5;241m.\u001b[39mEEException(\n\u001b[0;32m    151\u001b[0m         \u001b[38;5;124m\"\u001b[39m\u001b[38;5;124mA mapped function\u001b[39m\u001b[38;5;124m'\u001b[39m\u001b[38;5;124ms arguments cannot be used in \u001b[39m\u001b[38;5;124m\"\u001b[39m\n\u001b[0;32m    152\u001b[0m         \u001b[38;5;124m'\u001b[39m\u001b[38;5;124mclient-side operations\u001b[39m\u001b[38;5;124m'\u001b[39m\n\u001b[0;32m    153\u001b[0m     )\n\u001b[0;32m    154\u001b[0m   \u001b[38;5;28;01mreturn\u001b[39;00m {\u001b[38;5;124m'\u001b[39m\u001b[38;5;124margumentReference\u001b[39m\u001b[38;5;124m'\u001b[39m: ref}\n\u001b[0;32m    155\u001b[0m \u001b[38;5;28;01melse\u001b[39;00m:\n",
      "\u001b[1;31mEEException\u001b[0m: A mapped function's arguments cannot be used in client-side operations"
     ]
    }
   ],
   "source": [
    "def buildSRCollection(startYear, endYear, startDay, endDay, aoi, maskThese=['cloud', 'shadow', 'snow']):\n",
    "    \"\"\"\n",
    "    Build a collection of surface reflectance images after applying cloud and shadow masking.\n",
    "    \"\"\"\n",
    "    # Define the date range based on the input\n",
    "    start_date = ee.Date.fromYMD(startYear, int(startDay.split('-')[0]), int(startDay.split('-')[1]))\n",
    "    end_date = ee.Date.fromYMD(endYear, int(endDay.split('-')[0]), int(endDay.split('-')[1]))\n",
    "    \n",
    "    # Load Landsat surface reflectance image collection\n",
    "    collection = ee.ImageCollection(\"LANDSAT/LE07/C02/T1\") \\\n",
    "        .filterBounds(aoi) \\\n",
    "        .filterDate(start_date, end_date) \\\n",
    "        .filter(ee.Filter.lt('CLOUD_COVER', 20))  # Filter images with less than 20% cloud cover\n",
    "    \n",
    "    # Function to mask clouds, shadows, and snow\n",
    "    def maskLandsatSR(image):\n",
    "        qa = image.select('QA_PIXEL')\n",
    "\n",
    "        # Cloud mask\n",
    "        cloud_bit = 1 << 3\n",
    "        mask_cloud = qa.bitwiseAnd(cloud_bit).eq(0)\n",
    "        \n",
    "        # Shadow mask\n",
    "        shadow_bit = 1 << 4\n",
    "        mask_shadow = qa.bitwiseAnd(shadow_bit).eq(0)\n",
    "        \n",
    "        # Snow mask\n",
    "        snow_bit = 1 << 5\n",
    "        mask_snow = qa.bitwiseAnd(snow_bit).eq(0)\n",
    "        \n",
    "        # Combine the masks\n",
    "        combined_mask = mask_cloud.And(mask_shadow).And(mask_snow)\n",
    "        return image.updateMask(combined_mask)\n",
    "    \n",
    "    # Apply the masking function to the collection (server-side mapping)\n",
    "    # Tạo danh sách trống để lưu các ảnh sau khi áp dụng mask\n",
    "    masked_images = []\n",
    "\n",
    "    # Lặp qua từng ảnh trong ImageCollection và áp dụng hàm maskLandsatSR\n",
    "    for image in collection.toList(collection.size()).getInfo():\n",
    "        img = ee.Image(image['id'])  # Lấy id của ảnh từ image\n",
    "        masked_img = maskLandsatSR(img)  # Áp dụng hàm mask\n",
    "        masked_images.append(masked_img)  # Thêm ảnh sau khi mask vào danh sách\n",
    "\n",
    "    # Chuyển đổi danh sách các ảnh thành một ImageCollection\n",
    "    masked_collection = ee.ImageCollection(masked_images)\n",
    "    \n",
    "    # Function to calculate medoid composite for a specific year\n",
    "    def medoid_composite(year):\n",
    "        start = ee.Date.fromYMD(year, int(startDay.split('-')[0]), int(startDay.split('-')[1]))\n",
    "        end = ee.Date.fromYMD(year, int(endDay.split('-')[0]), int(endDay.split('-')[1]))\n",
    "        \n",
    "        # Lọc bộ sưu tập theo năm\n",
    "        filtered_collection = masked_collection.filterDate(start, end)\n",
    "        \n",
    "        # Tính ảnh trung bình để so sánh\n",
    "        median_image = filtered_collection.median()\n",
    "\n",
    "        # Hàm tính toán khoảng cách Euclidean từ ảnh đến ảnh trung vị\n",
    "        def calculate_distance(image):\n",
    "            diff = image.subtract(median_image).pow(ee.Image.constant(2))  # (Ảnh - trung vị)^2\n",
    "            distance = diff.reduce('sum').sqrt()  # Tính tổng các băng và căn bậc hai\n",
    "            return distance.addBands(image)  # Thêm ảnh ban đầu làm băng\n",
    "        \n",
    "        # Áp dụng hàm tính khoảng cách lên bộ sưu tập\n",
    "        distance_collection = filtered_collection.map(calculate_distance)\n",
    "        \n",
    "        # Chọn ảnh có khoảng cách nhỏ nhất đến ảnh trung vị\n",
    "        medoid = distance_collection.reduce(ee.Reducer.min(2)).select([1, 2, 3, 4, 5, 6], ['B1', 'B2', 'B3', 'B4', 'B5', 'B7'])\n",
    "        \n",
    "        return medoid.set('year', year)\n",
    "    \n",
    "    # Create a list of years and map over them using Earth Engine's server-side .map()\n",
    "    years = ee.List.sequence(startYear, endYear)\n",
    "    \n",
    "    def createMedoidImage(year):\n",
    "        return medoid_composite(ee.Number(year))\n",
    "    \n",
    "    # Map over the years to create a collection of medoid composites\n",
    "    medoid_images = ee.ImageCollection(years.map(createMedoidImage))\n",
    "    \n",
    "    return medoid_images\n",
    "\n",
    "\n",
    "# Example usage of the function (this would execute in the Earth Engine cloud environment)\n",
    "aoi = ee.Geometry.Point([-122.8848, 43.7929])  # Define an area of interest (AOI)\n",
    "startYear = 2015\n",
    "endYear = 2020\n",
    "startDay = '06-01'\n",
    "endDay = '09-30'\n",
    "\n",
    "# Run the function\n",
    "sr_collection = buildSRCollection(startYear, endYear, startDay, endDay, aoi)"
   ]
  }
 ],
 "metadata": {
  "kernelspec": {
   "display_name": "base",
   "language": "python",
   "name": "python3"
  },
  "language_info": {
   "codemirror_mode": {
    "name": "ipython",
    "version": 3
   },
   "file_extension": ".py",
   "mimetype": "text/x-python",
   "name": "python",
   "nbconvert_exporter": "python",
   "pygments_lexer": "ipython3",
   "version": "3.12.3"
  }
 },
 "nbformat": 4,
 "nbformat_minor": 2
}
